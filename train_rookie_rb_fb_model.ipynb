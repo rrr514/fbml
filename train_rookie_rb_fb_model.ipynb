{
 "cells": [
  {
   "cell_type": "code",
   "execution_count": 1,
   "id": "c31babf4-378d-40d4-8414-5fa5bcdace22",
   "metadata": {},
   "outputs": [],
   "source": [
    "import pandas as pd"
   ]
  },
  {
   "cell_type": "code",
   "execution_count": 2,
   "id": "3cc83a30",
   "metadata": {},
   "outputs": [],
   "source": [
    "years = [year for year in range(2020, 2025)]\n",
    "\n",
    "rookie_data = {}\n",
    "season_data = {}"
   ]
  },
  {
   "cell_type": "code",
   "execution_count": 3,
   "id": "3f2e8ef2-e9dd-4110-89f9-033777fd60c8",
   "metadata": {},
   "outputs": [],
   "source": [
    "for year in years:\n",
    "    rookie_data[year] = pd.read_csv(f'data/{year}rookiestats_RB_FB.csv')\n",
    "    season_data[year] = pd.read_csv(f'data/{year}playerstats_RB_FB.csv')"
   ]
  },
  {
   "cell_type": "markdown",
   "id": "ae00ff6a-d83d-4c9e-b975-09bf00980895",
   "metadata": {},
   "source": [
    "# Rookie RB/FB Model:\n",
    "- Games Played\n",
    "- rush attempts per game\n",
    "- rush yards per game\n",
    "- rush tds per game"
   ]
  },
  {
   "cell_type": "code",
   "execution_count": 4,
   "id": "90a62e37-42fc-4ce7-91fc-53a4d528e965",
   "metadata": {},
   "outputs": [],
   "source": [
    "def compute_features(df):\n",
    "    df['GamesPlayed'] = df['Coll_games'].fillna(0)\n",
    "\n",
    "    df['RushAttPerGame'] = df['Coll_rush_att'] / df['Coll_games'].replace(0, pd.NA)\n",
    "    df['RushAttPerGame'] = df['RushAttPerGame'].fillna(0)\n",
    "\n",
    "    df['RushYdsPerGame'] = df['Coll_rush_yds_per_g'].fillna(0)\n",
    "\n",
    "    df['RushTDsPerGame'] = df['Coll_rush_td'] / df['Coll_games'].replace(0, pd.NA)\n",
    "    df['RushTDsPerGame'] = df['RushTDsPerGame'].fillna(0)\n",
    "\n",
    "    df['RecsPerGame'] = df['Coll_rec'] / df['Coll_games'].replace(0, pd.NA)\n",
    "    df['RecsPerGame'] = df['RecsPerGame'].fillna(0)\n",
    "\n",
    "    df['RecYdsPerGame'] = df['Coll_rec_yds_per_g'].fillna(0)\n",
    "\n",
    "    df['RecTDsPerGame'] = df['Coll_rec_td'] / df['Coll_games'].replace(0, pd.NA)\n",
    "    df['RecTDsPerGame'] = df['RecTDsPerGame'].fillna(0)"
   ]
  },
  {
   "cell_type": "code",
   "execution_count": 5,
   "id": "cd4876d8-a51a-42d4-8b6d-ec9c0344d2a1",
   "metadata": {},
   "outputs": [],
   "source": [
    "for year in years:\n",
    "    compute_features(rookie_data[year])"
   ]
  },
  {
   "cell_type": "code",
   "execution_count": 6,
   "id": "e24db57a-3db0-4a43-9d9a-09efd1f7e2f7",
   "metadata": {},
   "outputs": [],
   "source": [
    "from helpers import append_total_fantasy_points\n",
    "\n",
    "merged_data = {}\n",
    "# Append total fantasy points\n",
    "for year in years:\n",
    "    merged_data[year] = append_total_fantasy_points(rookie_data[year], season_data[year])"
   ]
  },
  {
   "cell_type": "code",
   "execution_count": 7,
   "id": "53ed648f",
   "metadata": {},
   "outputs": [],
   "source": [
    "# Keep only the features we want\n",
    "features = [\n",
    "    'GamesPlayed',\n",
    "    'RushAttPerGame',\n",
    "    'RushYdsPerGame',\n",
    "    'RushTDsPerGame',\n",
    "]\n",
    "\n",
    "train_years = years[:-1]\n",
    "test_year = years[-1]\n",
    "\n",
    "df_train = pd.concat([merged_data[year] for year in train_years], ignore_index=True)\n",
    "df_test = merged_data[test_year]"
   ]
  },
  {
   "cell_type": "code",
   "execution_count": 8,
   "id": "3ffc7c6f",
   "metadata": {},
   "outputs": [],
   "source": [
    "y_test = df_test['FantasyPtsPPR']\n",
    "y_train = df_train['FantasyPtsPPR']\n",
    "X_test = df_test[features]\n",
    "X_train = df_train[features]"
   ]
  },
  {
   "cell_type": "code",
   "execution_count": 9,
   "id": "c1eb411b",
   "metadata": {},
   "outputs": [
    {
     "name": "stdout",
     "output_type": "stream",
     "text": [
      "[[ 0.20260135 -0.5961655  -0.61520901 -0.33039307]\n",
      " [ 0.41330676 -0.33078189 -0.03082209 -0.64545813]\n",
      " [ 0.20260135  2.38260979  3.05755177  1.83404798]\n",
      " [-0.32416217  0.9970983   0.43890663  0.29088167]\n",
      " [ 0.30795406  1.21326956  1.41535058  0.79954441]]\n",
      "[[-1.69374731 -0.30546237 -0.13438433  0.11225429]\n",
      " [-0.32416217 -0.65033587 -0.54123598  0.01698636]\n",
      " [ 0.62401217  0.71154304  0.55726347  2.0620714 ]\n",
      " [-0.74557298 -0.58093008 -0.63740091 -0.22267205]\n",
      " [-0.53486757 -0.20097039 -0.01232884 -0.43413534]]\n"
     ]
    }
   ],
   "source": [
    "from sklearn.preprocessing import StandardScaler\n",
    "scaler = StandardScaler().fit(X_train)\n",
    "X_train = scaler.transform(X_train)\n",
    "X_test = scaler.transform(X_test)\n",
    "\n",
    "print(X_train[:5])\n",
    "print(X_test[:5])"
   ]
  },
  {
   "cell_type": "code",
   "execution_count": 10,
   "id": "eacc9290",
   "metadata": {},
   "outputs": [
    {
     "name": "stdout",
     "output_type": "stream",
     "text": [
      "Training samples: 78\n",
      "Testing samples: 17\n",
      "Features: 4\n",
      "Samples per feature: 19.5\n",
      "Training target stats: mean=70.6, std=78.3\n",
      "Testing target stats: mean=55.5, std=69.9\n"
     ]
    }
   ],
   "source": [
    "from helpers import print_diagnostics\n",
    "print_diagnostics(X_train, X_test, features, y_train, y_test)"
   ]
  },
  {
   "cell_type": "code",
   "execution_count": 11,
   "id": "e71ba089",
   "metadata": {},
   "outputs": [
    {
     "name": "stdout",
     "output_type": "stream",
     "text": [
      "Training RMSE: 73.17624447800044\n",
      "Training R^2: 0.11450773797349012\n",
      "Training MAE: 59.94638327505876\n",
      "Testing RMSE: 70.20158229441802\n",
      "Testing R^2: -0.07311467895351687\n",
      "Testing MAE: 59.1455443426862\n"
     ]
    }
   ],
   "source": [
    "from sklearn.linear_model import LinearRegression\n",
    "model = LinearRegression().fit(X_train, y_train)\n",
    "\n",
    "train_preds = model.predict(X_train)\n",
    "preds = model.predict(X_test)\n",
    "\n",
    "from helpers import evaluate_model\n",
    "evaluate_model(y_train, train_preds, y_test, preds)"
   ]
  },
  {
   "cell_type": "code",
   "execution_count": 12,
   "id": "1589540a",
   "metadata": {},
   "outputs": [
    {
     "name": "stdout",
     "output_type": "stream",
     "text": [
      "[74.41817497 71.3903004  90.21659866 57.72691377 74.48331361]\n",
      "0     7.5\n",
      "1    47.0\n",
      "2    33.5\n",
      "3     2.8\n",
      "4    26.7\n",
      "Name: FantasyPtsPPR, dtype: float64\n"
     ]
    }
   ],
   "source": [
    "print(preds[:5])\n",
    "print(y_test.head())"
   ]
  },
  {
   "cell_type": "code",
   "execution_count": 13,
   "id": "5d957a6e",
   "metadata": {},
   "outputs": [
    {
     "name": "stdout",
     "output_type": "stream",
     "text": [
      "Intercept: 70.62564102564103\n",
      "Feature Coefficients:\n",
      "GamesPlayed: 3.3199\n",
      "RushAttPerGame: -54.3891\n",
      "RushYdsPerGame: 62.2788\n",
      "RushTDsPerGame: 10.4331\n"
     ]
    }
   ],
   "source": [
    "from helpers import print_model_coefficients\n",
    "print_model_coefficients(model, features)"
   ]
  },
  {
   "cell_type": "code",
   "execution_count": 14,
   "id": "55e750a5",
   "metadata": {},
   "outputs": [
    {
     "name": "stdout",
     "output_type": "stream",
     "text": [
      "              Player  Actual  Predicted  ActualRank  PredictedRank  RankError\n",
      "0    Jonathon Brooks     7.5  74.418175          12              7         -5\n",
      "1        Trey Benson    47.0  71.390300           7              8          1\n",
      "2        Blake Corum    33.5  90.216599           8              2         -6\n",
      "3     MarShawn Lloyd     2.8  57.726914          15             11         -4\n",
      "4      Jaylen Wright    26.7  74.483314          10              6         -4\n",
      "5       Bucky Irving   244.4  77.200360           1              5          4\n",
      "6       Will Shipley    15.7  61.347132          11             10         -1\n",
      "7          Ray Davis   116.1  43.272026           3             17         14\n",
      "8     Isaac Guerendo    94.2  57.596570           4             12          8\n",
      "9      Braelon Allen    85.2  90.668945           5              1         -4\n",
      "10     Audric Estime    48.7  81.838230           6              3         -3\n",
      "11       Rasheen Ali     3.1  80.525738          14              4        -10\n",
      "12  Tyrone Tracy Jr.   182.3  52.374613           2             15         13\n",
      "13   Keilan Robinson     0.0  48.513933          16             16          0\n",
      "14      Kimani Vidal    32.7  56.347382           9             13          4\n",
      "15    Jase McClellan     3.2  55.160716          13             14          1\n",
      "16     Jawhar Jordan     0.0  62.380444          16              9         -7\n",
      "2024 Rank Squared Error: 731\n"
     ]
    }
   ],
   "source": [
    "from helpers import compute_rank_squared_error, build_results_df\n",
    "results = build_results_df(y_test, preds, df_test['Player'])\n",
    "rank_squared_error = compute_rank_squared_error(results)\n",
    "\n",
    "print(results.to_string())\n",
    "print(\"2024 Rank Squared Error:\", rank_squared_error)"
   ]
  },
  {
   "cell_type": "code",
   "execution_count": null,
   "id": "d91c047c",
   "metadata": {},
   "outputs": [],
   "source": []
  }
 ],
 "metadata": {
  "kernelspec": {
   "display_name": "Python (fb)",
   "language": "python",
   "name": "fb"
  },
  "language_info": {
   "codemirror_mode": {
    "name": "ipython",
    "version": 3
   },
   "file_extension": ".py",
   "mimetype": "text/x-python",
   "name": "python",
   "nbconvert_exporter": "python",
   "pygments_lexer": "ipython3",
   "version": "3.13.2"
  }
 },
 "nbformat": 4,
 "nbformat_minor": 5
}
