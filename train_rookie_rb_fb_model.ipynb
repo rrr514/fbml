{
 "cells": [
  {
   "cell_type": "code",
   "execution_count": 53,
   "id": "c31babf4-378d-40d4-8414-5fa5bcdace22",
   "metadata": {},
   "outputs": [],
   "source": [
    "import pandas as pd"
   ]
  },
  {
   "cell_type": "code",
   "execution_count": 54,
   "id": "3f2e8ef2-e9dd-4110-89f9-033777fd60c8",
   "metadata": {},
   "outputs": [],
   "source": [
    "# Train with 2022-23 data, test with 2024 data\n",
    "df_22 = pd.read_csv('data/2022rookiestats_RB_FB.csv')\n",
    "df_23 = pd.read_csv('data/2023rookiestats_RB_FB.csv')\n",
    "df_24 = pd.read_csv('data/2024rookiestats_RB_FB.csv')\n",
    "df_22_season = pd.read_csv('data/2022playerstats_RB_FB.csv')\n",
    "df_23_season = pd.read_csv('data/2023playerstats_RB_FB.csv')\n",
    "df_24_season = pd.read_csv('data/2024playerstats_RB_FB.csv')\n",
    "# print(df_22.head())\n",
    "# print(df_23.head())\n",
    "# print(df_24.head())"
   ]
  },
  {
   "cell_type": "markdown",
   "id": "ae00ff6a-d83d-4c9e-b975-09bf00980895",
   "metadata": {},
   "source": [
    "# Rookie RB/FB Model:\n",
    "- Games Played\n",
    "- rush attempts per game\n",
    "- rush yards per game\n",
    "- rush tds per game"
   ]
  },
  {
   "cell_type": "code",
   "execution_count": 55,
   "id": "90a62e37-42fc-4ce7-91fc-53a4d528e965",
   "metadata": {},
   "outputs": [],
   "source": [
    "def compute_features(df):\n",
    "    df['GamesPlayed'] = df['Coll_games'].fillna(0)\n",
    "\n",
    "    df['RushAttPerGame'] = df['Coll_rush_att'] / df['Coll_games'].replace(0, pd.NA)\n",
    "    df['RushAttPerGame'] = df['RushAttPerGame'].fillna(0)\n",
    "\n",
    "    df['RushYdsPerGame'] = df['Coll_rush_yds_per_g'].fillna(0)\n",
    "\n",
    "    df['RushTDsPerGame'] = df['Coll_rush_td'] / df['Coll_games'].replace(0, pd.NA)\n",
    "    df['RushTDsPerGame'] = df['RushTDsPerGame'].fillna(0)\n",
    "\n",
    "    df['RecsPerGame'] = df['Coll_rec'] / df['Coll_games'].replace(0, pd.NA)\n",
    "    df['RecsPerGame'] = df['RecsPerGame'].fillna(0)\n",
    "\n",
    "    df['RecYdsPerGame'] = df['Coll_rec_yds_per_g'].fillna(0)\n",
    "\n",
    "    df['RecTDsPerGame'] = df['Coll_rec_td'] / df['Coll_games'].replace(0, pd.NA)\n",
    "    df['RecTDsPerGame'] = df['RecTDsPerGame'].fillna(0)"
   ]
  },
  {
   "cell_type": "code",
   "execution_count": 56,
   "id": "cd4876d8-a51a-42d4-8b6d-ec9c0344d2a1",
   "metadata": {},
   "outputs": [],
   "source": [
    "compute_features(df_22)\n",
    "compute_features(df_23)\n",
    "compute_features(df_24)"
   ]
  },
  {
   "cell_type": "code",
   "execution_count": 57,
   "id": "e24db57a-3db0-4a43-9d9a-09efd1f7e2f7",
   "metadata": {},
   "outputs": [
    {
     "name": "stdout",
     "output_type": "stream",
     "text": [
      "   Unnamed: 0  Pick   Tm              Player Pos  Age      To  AP1  PB  St  \\\n",
      "0          37    36  NYJ         Breece Hall  RB   21  2024.0    0   0   2   \n",
      "1          42    41  SEA  Kenneth Walker III  RB   21  2024.0    0   0   3   \n",
      "2          64    63  BUF          James Cook  RB   22  2024.0    0   2   2   \n",
      "3          92    91  TAM       Rachaad White  RB   23  2024.0    0   0   2   \n",
      "4          94    93  SFO  Tyrion Davis-Price  RB   21  2024.0    0   0   0   \n",
      "\n",
      "   ...  Coll_pass_yds_per_g  Coll_pass_rating  GamesPlayed  RushAttPerGame  \\\n",
      "0  ...                  NaN               NaN         36.0       19.944444   \n",
      "1  ...                  NaN               NaN         33.0       14.545455   \n",
      "2  ...                  NaN               NaN         50.0        4.600000   \n",
      "3  ...                  NaN               NaN         15.0       14.933333   \n",
      "4  ...                  NaN               NaN         35.0       10.828571   \n",
      "\n",
      "   RushYdsPerGame  RushTDsPerGame  RecsPerGame  RecYdsPerGame  RecTDsPerGame  \\\n",
      "0           109.3        1.388889     2.277778           20.4       0.166667   \n",
      "1            84.7        1.060606     0.575758            4.1       0.030303   \n",
      "2            30.1        0.280000     1.340000           14.6       0.120000   \n",
      "3            95.1        1.333333     3.400000           40.5       0.133333   \n",
      "4            49.8        0.428571     0.800000            5.3       0.000000   \n",
      "\n",
      "   FantasyPtsPPR  \n",
      "0          115.1  \n",
      "1          202.5  \n",
      "2          105.7  \n",
      "3          139.1  \n",
      "4            9.9  \n",
      "\n",
      "[5 rows x 65 columns]\n"
     ]
    }
   ],
   "source": [
    "from helpers import append_total_fantasy_points\n",
    "\n",
    "df_22_merged = append_total_fantasy_points(df_22, df_22_season)\n",
    "df_23_merged = append_total_fantasy_points(df_23, df_23_season)\n",
    "df_24_merged = append_total_fantasy_points(df_24, df_24_season)\n",
    "\n",
    "print(df_22_merged.head())"
   ]
  },
  {
   "cell_type": "code",
   "execution_count": 58,
   "id": "53ed648f",
   "metadata": {},
   "outputs": [
    {
     "name": "stdout",
     "output_type": "stream",
     "text": [
      "    Unnamed: 0  Pick   Tm              Player Pos  Age      To  AP1  PB  St  \\\n",
      "0           37    36  NYJ         Breece Hall  RB   21  2024.0    0   0   2   \n",
      "1           42    41  SEA  Kenneth Walker III  RB   21  2024.0    0   0   3   \n",
      "2           64    63  BUF          James Cook  RB   22  2024.0    0   2   2   \n",
      "3           92    91  TAM       Rachaad White  RB   23  2024.0    0   0   2   \n",
      "4           94    93  SFO  Tyrion Davis-Price  RB   21  2024.0    0   0   0   \n",
      "5           99    98  WAS  Brian Robinson Jr.  RB   23  2024.0    0   0   3   \n",
      "6          108   107  HOU       Dameon Pierce  RB   22  2024.0    0   0   1   \n",
      "7          123   122  LVR         Zamir White  RB   22  2024.0    0   0   0   \n",
      "8          124   123  LAC      Isaiah Spiller  RB   21  2023.0    0   0   0   \n",
      "9          132   131  TEN      Hassan Haskins  RB   22  2024.0    0   0   0   \n",
      "10         152   151  ATL      Tyler Allgeier  RB   22  2024.0    0   0   0   \n",
      "11         155   154  JAX        Snoop Conner  RB   22  2022.0    0   0   0   \n",
      "12         157   156  CLE         Jerome Ford  RB   22  2024.0    0   0   1   \n",
      "13         165   164  LAR      Kyren Williams  RB   22  2024.0    0   1   2   \n",
      "14         170   169  MIN         Ty Chandler  RB   24  2024.0    0   0   0   \n",
      "15         184   183  NWE        Kevin Harris  RB   21  2023.0    0   0   0   \n",
      "16         197   196  BAL         Tyler Badie  RB   22  2024.0    0   0   0   \n",
      "17         202   201  ARI     Keaontay Ingram  RB   22  2024.0    0   0   0   \n",
      "18         204   203  CHI       Trestan Ebner  RB   23  2022.0    0   0   0   \n",
      "19         251   250  LVR      Brittain Brown  RB   24  2022.0    0   0   0   \n",
      "20         252   251  KAN       Isiah Pacheco  RB   23  2024.0    0   0   2   \n",
      "21         261   260  LAC      Zander Horvath  RB   23  2022.0    0   0   0   \n",
      "22           9     8  ATL      Bijan Robinson  RB   21  2024.0    0   1   2   \n",
      "23          13    12  DET        Jahmyr Gibbs  RB   21  2024.0    0   2   0   \n",
      "24          53    52  SEA     Zach Charbonnet  RB   22  2024.0    0   0   0   \n",
      "25          72    71  NOR       Kendre Miller  RB   21  2024.0    0   0   0   \n",
      "26          82    81  TEN        Tyjae Spears  RB   22  2024.0    0   0   0   \n",
      "27          85    84  MIA       De'Von Achane  RB   21  2024.0    0   0   1   \n",
      "28          89    88  JAX         Tank Bigsby  RB   22  2024.0    0   0   0   \n",
      "29         116   115  CHI     Roschon Johnson  RB   22  2024.0    0   0   0   \n",
      "30         144   143  NYJ   Israel Abanikanda  RB   20  2023.0    0   0   0   \n",
      "31         164   163  CIN         Chase Brown  RB   23  2024.0    0   0   0   \n",
      "32         173   172  NYG           Eric Gray  RB   23  2024.0    0   0   0   \n",
      "33         177   176  IND           Evan Hull  RB   22  2024.0    0   0   0   \n",
      "34         194   193  WAS     Chris Rodriguez  RB   22  2024.0    0   0   0   \n",
      "35         213   212  DAL        Deuce Vaughn  RB   21  2024.0    0   0   0   \n",
      "36         216   215  LAR          Zach Evans  RB   22  2023.0    0   0   0   \n",
      "37         223   222  MIN     DeWayne McBride  RB   22     NaN    0   0   0   \n",
      "38         236   235  GNB         Lew Nichols  RB   22     NaN    0   0   0   \n",
      "39         238   237  SEA      Kenny McIntosh  RB   23  2024.0    0   0   0   \n",
      "\n",
      "    ...  Coll_pass_yds_per_g  Coll_pass_rating  GamesPlayed  RushAttPerGame  \\\n",
      "0   ...                  NaN               NaN         36.0       19.944444   \n",
      "1   ...                  NaN               NaN         33.0       14.545455   \n",
      "2   ...                  NaN               NaN         50.0        4.600000   \n",
      "3   ...                  NaN               NaN         15.0       14.933333   \n",
      "4   ...                  NaN               NaN         35.0       10.828571   \n",
      "5   ...                  NaN               NaN         66.0        8.257576   \n",
      "6   ...                  NaN               NaN         50.0        6.580000   \n",
      "7   ...                  NaN               NaN         38.0       10.052632   \n",
      "8   ...                  NaN               NaN         35.0       15.457143   \n",
      "9   ...                  0.0               0.0         36.0       12.555556   \n",
      "10  ...                  NaN               NaN         41.0       11.024390   \n",
      "11  ...                  NaN               NaN         35.0        8.685714   \n",
      "12  ...                  NaN               NaN         32.0        9.937500   \n",
      "13  ...                  NaN               NaN         28.0       14.964286   \n",
      "14  ...                  NaN               NaN         59.0       10.220339   \n",
      "15  ...                  NaN               NaN         28.0       12.785714   \n",
      "16  ...                  NaN               NaN         46.0       11.152174   \n",
      "17  ...                  0.0               0.0         42.0       11.785714   \n",
      "18  ...                 -0.1             -66.8         61.0        5.622951   \n",
      "19  ...                  NaN               NaN         42.0        9.666667   \n",
      "20  ...                  1.3             119.1         44.0       12.795455   \n",
      "21  ...                  NaN               NaN         38.0        7.052632   \n",
      "22  ...                  NaN               NaN         31.0       17.387097   \n",
      "23  ...                  NaN               NaN         31.0       12.354839   \n",
      "24  ...                  NaN               NaN         40.0       14.150000   \n",
      "25  ...                  NaN               NaN         33.0       10.939394   \n",
      "26  ...                  NaN               NaN         34.0       12.558824   \n",
      "27  ...                  NaN               NaN         30.0       12.300000   \n",
      "28  ...                  NaN               NaN         35.0       15.457143   \n",
      "29  ...                  0.0              58.4         47.0        8.340426   \n",
      "30  ...                  NaN               NaN         31.0       12.580645   \n",
      "31  ...                  0.0               0.0         49.0       13.795918   \n",
      "32  ...                  0.0             -50.0         47.0       11.680851   \n",
      "33  ...                  NaN               NaN         38.0       12.842105   \n",
      "34  ...                  NaN               NaN         45.0       13.155556   \n",
      "35  ...                  NaN               NaN         37.0       17.594595   \n",
      "36  ...                  NaN               NaN         27.0       10.740741   \n",
      "37  ...                  NaN               NaN         30.0       16.133333   \n",
      "38  ...                  1.3             214.8         32.0       19.187500   \n",
      "39  ...                  0.4             581.2         48.0        5.833333   \n",
      "\n",
      "    RushYdsPerGame  RushTDsPerGame  RecsPerGame  RecYdsPerGame  RecTDsPerGame  \\\n",
      "0            109.3        1.388889     2.277778           20.4       0.166667   \n",
      "1             84.7        1.060606     0.575758            4.1       0.030303   \n",
      "2             30.1        0.280000     1.340000           14.6       0.120000   \n",
      "3             95.1        1.333333     3.400000           40.5       0.133333   \n",
      "4             49.8        0.428571     0.800000            5.3       0.000000   \n",
      "5             41.0        0.439394     0.787879            6.8       0.030303   \n",
      "6             36.1        0.460000     0.900000            8.4       0.100000   \n",
      "7             53.8        0.657895     0.447368            3.5       0.000000   \n",
      "8             85.5        0.714286     2.114286           16.7       0.028571   \n",
      "9             64.6        0.833333     0.666667            4.8       0.000000   \n",
      "10            70.8        0.878049     1.121951           10.7       0.024390   \n",
      "11            45.1        0.742857     0.914286            6.4       0.000000   \n",
      "12            61.0        0.937500     0.968750            8.8       0.031250   \n",
      "13            76.9        0.964286     2.785714           24.1       0.142857   \n",
      "14            53.2        0.440678     1.237288           11.5       0.067797   \n",
      "15            70.6        0.821429     1.250000            9.8       0.035714   \n",
      "16            59.6        0.500000     2.739130           25.0       0.239130   \n",
      "17            64.8        0.380952     2.119048           16.0       0.142857   \n",
      "18            27.7        0.147541     2.081967           24.8       0.180328   \n",
      "19            54.4        0.500000     0.976190           10.3       0.047619   \n",
      "20            55.5        0.409091     1.068182            5.7       0.022727   \n",
      "21            31.1        0.210526     1.789474           15.6       0.026316   \n",
      "22           110.0        1.064516     1.935484           26.0       0.258065   \n",
      "23            68.8        0.483871     3.354839           39.3       0.258065   \n",
      "24            83.7        0.975000     1.875000           14.7       0.000000   \n",
      "25            73.0        0.787879     0.878788            6.9       0.030303   \n",
      "26            85.6        0.911765     1.411765           16.6       0.088235   \n",
      "27            79.2        0.700000     2.166667           18.5       0.166667   \n",
      "28            83.0        0.714286     1.771429           12.8       0.000000   \n",
      "29            46.6        0.489362     1.191489            8.9       0.063830   \n",
      "30            70.2        0.903226     1.225806           11.4       0.096774   \n",
      "31            72.6        0.367347     1.183673           10.6       0.061224   \n",
      "32            65.7        0.446809     2.106383           17.6       0.106383   \n",
      "33            63.6        0.473684     2.473684           22.4       0.105263   \n",
      "34            81.0        0.711111     0.444444            2.6       0.066667   \n",
      "35            97.4        0.918919     3.135135           34.6       0.243243   \n",
      "36            74.0        0.666667     1.111111           12.0       0.074074   \n",
      "37           117.4        1.200000     0.166667            1.0       0.000000   \n",
      "38            95.6        0.812500     2.218750           18.0       0.093750   \n",
      "39            33.0        0.333333     1.583333           17.9       0.083333   \n",
      "\n",
      "    FantasyPtsPPR  \n",
      "0           115.1  \n",
      "1           202.5  \n",
      "2           105.7  \n",
      "3           139.1  \n",
      "4             9.9  \n",
      "5           112.7  \n",
      "6           166.4  \n",
      "7             7.0  \n",
      "8             8.4  \n",
      "9            26.0  \n",
      "10          159.4  \n",
      "11           10.2  \n",
      "12            1.2  \n",
      "13           30.5  \n",
      "14            2.0  \n",
      "15           11.2  \n",
      "16            9.4  \n",
      "17           18.1  \n",
      "18            6.2  \n",
      "19            0.0  \n",
      "20          135.0  \n",
      "21           18.6  \n",
      "22          246.3  \n",
      "23          242.1  \n",
      "24          106.1  \n",
      "25           43.3  \n",
      "26          153.8  \n",
      "27          190.7  \n",
      "28           22.8  \n",
      "29          102.1  \n",
      "30           16.3  \n",
      "31           53.5  \n",
      "32           13.0  \n",
      "33            1.7  \n",
      "34           37.9  \n",
      "35           15.0  \n",
      "36            1.9  \n",
      "37            0.0  \n",
      "38            0.0  \n",
      "39            0.0  \n",
      "\n",
      "[40 rows x 65 columns]\n"
     ]
    }
   ],
   "source": [
    "# Keep only the features we want\n",
    "features = [\n",
    "    'GamesPlayed',\n",
    "    'RushAttPerGame',\n",
    "    'RushYdsPerGame',\n",
    "    'RushTDsPerGame',\n",
    "]\n",
    "\n",
    "df_22_23_merged = pd.concat([df_22_merged, df_23_merged], ignore_index=True)\n",
    "\n",
    "print(df_22_23_merged)"
   ]
  },
  {
   "cell_type": "code",
   "execution_count": 59,
   "id": "3ffc7c6f",
   "metadata": {},
   "outputs": [
    {
     "name": "stdout",
     "output_type": "stream",
     "text": [
      "   GamesPlayed  RushAttPerGame  RushYdsPerGame  RushTDsPerGame\n",
      "0         36.0       19.944444           109.3        1.388889\n",
      "1         33.0       14.545455            84.7        1.060606\n",
      "2         50.0        4.600000            30.1        0.280000\n",
      "3         15.0       14.933333            95.1        1.333333\n",
      "4         35.0       10.828571            49.8        0.428571\n",
      "0    115.1\n",
      "1    202.5\n",
      "2    105.7\n",
      "3    139.1\n",
      "4      9.9\n",
      "Name: FantasyPtsPPR, dtype: float64\n"
     ]
    }
   ],
   "source": [
    "y_test = df_24_merged['FantasyPtsPPR']\n",
    "y_train = df_22_23_merged['FantasyPtsPPR']\n",
    "X_test = df_24_merged[features]\n",
    "X_train = df_22_23_merged[features]\n",
    "\n",
    "print(X_train.head())\n",
    "print(y_train.head())"
   ]
  },
  {
   "cell_type": "code",
   "execution_count": 60,
   "id": "c1eb411b",
   "metadata": {},
   "outputs": [
    {
     "name": "stdout",
     "output_type": "stream",
     "text": [
      "[[-0.29129798  2.24247954  1.85749886  2.36747579]\n",
      " [-0.59526109  0.7161978   0.75035798  1.25980127]\n",
      " [ 1.12719653 -2.09535881 -1.7069547  -1.37407831]\n",
      " [-2.41903973  0.82585022  1.21841754  2.18002318]\n",
      " [-0.39261901 -0.33455631 -0.82034188 -0.87277648]]\n",
      "[[-1.60847145 -0.47046189 -0.16775885  0.02839322]\n",
      " [-0.29129798 -0.91431086 -0.66282184 -0.06940815]\n",
      " [ 0.62059135  0.83841456  0.67384824  2.03006109]\n",
      " [-0.69658212 -0.82498625 -0.77983673 -0.3154397 ]\n",
      " [-0.49394005 -0.33598168 -0.01923995 -0.53252636]]\n"
     ]
    }
   ],
   "source": [
    "from sklearn.preprocessing import StandardScaler\n",
    "scaler = StandardScaler().fit(X_train)\n",
    "X_train = scaler.transform(X_train)\n",
    "X_test = scaler.transform(X_test)\n",
    "\n",
    "print(X_train[:5])\n",
    "print(X_test[:5])"
   ]
  },
  {
   "cell_type": "code",
   "execution_count": 61,
   "id": "eacc9290",
   "metadata": {},
   "outputs": [
    {
     "name": "stdout",
     "output_type": "stream",
     "text": [
      "Training samples: 40\n",
      "Testing samples: 17\n",
      "Features: 4\n",
      "Samples per feature: 10.0\n",
      "Training target stats: mean=63.5, std=74.9\n",
      "Testing target stats: mean=55.5, std=69.9\n"
     ]
    }
   ],
   "source": [
    "from helpers import print_diagnostics\n",
    "print_diagnostics(X_train, X_test, features, y_train, y_test)"
   ]
  },
  {
   "cell_type": "code",
   "execution_count": 62,
   "id": "e71ba089",
   "metadata": {},
   "outputs": [
    {
     "name": "stdout",
     "output_type": "stream",
     "text": [
      "Training RMSE: 70.45130843643301\n",
      "Training R^2: 0.0916484442727089\n",
      "Training MAE: 58.24357432939858\n",
      "Testing RMSE: 69.06023051689476\n",
      "Testing R^2: -0.03850449580994342\n",
      "Testing MAE: 56.02697957959382\n"
     ]
    }
   ],
   "source": [
    "from sklearn.linear_model import LinearRegression\n",
    "model = LinearRegression().fit(X_train, y_train)\n",
    "\n",
    "train_preds = model.predict(X_train)\n",
    "preds = model.predict(X_test)\n",
    "\n",
    "from helpers import evaluate_model\n",
    "evaluate_model(y_train, train_preds, y_test, preds)"
   ]
  },
  {
   "cell_type": "code",
   "execution_count": 63,
   "id": "1589540a",
   "metadata": {},
   "outputs": [
    {
     "name": "stdout",
     "output_type": "stream",
     "text": [
      "[60.70220795 65.14183815 95.74396486 50.4090682  62.98741594]\n",
      "0     7.5\n",
      "1    47.0\n",
      "2    33.5\n",
      "3     2.8\n",
      "4    26.7\n",
      "Name: FantasyPtsPPR, dtype: float64\n"
     ]
    }
   ],
   "source": [
    "print(preds[:5])\n",
    "print(y_test.head())"
   ]
  },
  {
   "cell_type": "code",
   "execution_count": 64,
   "id": "5d957a6e",
   "metadata": {},
   "outputs": [
    {
     "name": "stdout",
     "output_type": "stream",
     "text": [
      "Intercept: 63.5275\n",
      "Feature Coefficients:\n",
      "GamesPlayed: 8.0228\n",
      "RushAttPerGame: -35.2277\n",
      "RushYdsPerGame: 41.1337\n",
      "RushTDsPerGame: 14.3125\n"
     ]
    }
   ],
   "source": [
    "from helpers import print_model_coefficients\n",
    "print_model_coefficients(model, features)"
   ]
  },
  {
   "cell_type": "code",
   "execution_count": 65,
   "id": "55e750a5",
   "metadata": {},
   "outputs": [
    {
     "name": "stdout",
     "output_type": "stream",
     "text": [
      "              Player  Actual  Predicted  ActualRank  PredictedRank  RankError\n",
      "0    Jonathon Brooks     7.5  60.702208          12              8         -4\n",
      "1        Trey Benson    47.0  65.141838           7              6         -1\n",
      "2        Blake Corum    33.5  95.743965           8              1         -7\n",
      "3     MarShawn Lloyd     2.8  50.409068          15             15          0\n",
      "4      Jaylen Wright    26.7  62.987416          10              7         -3\n",
      "5       Bucky Irving   244.4  67.001509           1              5          4\n",
      "6       Will Shipley    15.7  59.017875          11              9         -2\n",
      "7          Ray Davis   116.1  43.719739           3             16         13\n",
      "8     Isaac Guerendo    94.2  52.612594           4             13          9\n",
      "9      Braelon Allen    85.2  84.057153           5              2         -3\n",
      "10     Audric Estime    48.7  76.033012           6              4         -2\n",
      "11       Rasheen Ali     3.1  79.115470          14              3        -11\n",
      "12  Tyrone Tracy Jr.   182.3  55.994075           2             11          9\n",
      "13   Keilan Robinson     0.0  43.581553          16             17          1\n",
      "14      Kimani Vidal    32.7  57.188501           9             10          1\n",
      "15    Jase McClellan     3.2  50.468855          13             14          1\n",
      "16     Jawhar Jordan     0.0  54.153961          16             12         -4\n",
      "2024 Rank Squared Error: 579\n"
     ]
    }
   ],
   "source": [
    "from helpers import compute_rank_squared_error, build_results_df\n",
    "results = build_results_df(y_test, preds, df_24_merged['Player'])\n",
    "rank_squared_error = compute_rank_squared_error(results)\n",
    "\n",
    "print(results.to_string())\n",
    "print(\"2024 Rank Squared Error:\", rank_squared_error)"
   ]
  },
  {
   "cell_type": "code",
   "execution_count": null,
   "id": "d91c047c",
   "metadata": {},
   "outputs": [],
   "source": []
  }
 ],
 "metadata": {
  "kernelspec": {
   "display_name": "Python (fb)",
   "language": "python",
   "name": "fb"
  },
  "language_info": {
   "codemirror_mode": {
    "name": "ipython",
    "version": 3
   },
   "file_extension": ".py",
   "mimetype": "text/x-python",
   "name": "python",
   "nbconvert_exporter": "python",
   "pygments_lexer": "ipython3",
   "version": "3.13.2"
  }
 },
 "nbformat": 4,
 "nbformat_minor": 5
}
