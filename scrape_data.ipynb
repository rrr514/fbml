{
 "cells": [
  {
   "cell_type": "code",
   "execution_count": 6,
   "id": "4f616416-085e-4e77-bf63-f14d681a8d67",
   "metadata": {},
   "outputs": [],
   "source": [
    "from urllib.request import urlopen\n",
    "from bs4 import BeautifulSoup\n",
    "import pandas as pd"
   ]
  },
  {
   "cell_type": "code",
   "execution_count": 8,
   "id": "4ba5970a-d4bf-43c4-94e0-68387402ae1f",
   "metadata": {},
   "outputs": [],
   "source": [
    "# Code taken from https://github.com/pvicks585/NFL-WebScrape\n",
    "def player_csv(year):\n",
    "\n",
    "    url = \"https://www.pro-football-reference.com/years/{}/fantasy.htm\".format(year)\n",
    "    html = urlopen(url)\n",
    "    soup = BeautifulSoup(html)\n",
    "\n",
    "    headers = [th.getText() for th in soup.findAll('tr')[1].findAll('th')] #Find the second table row tag, find every table header column within it and extract the html text via the get_text method.\n",
    "    headers = headers[1:] #Do not need the first (0 index) column header\n",
    "    \n",
    "    rows = soup.findAll('tr', class_ = lambda table_rows: table_rows != \"thead\") #Here we grab all rows that are not classed as table header rows - football reference throws in a table header row everyy 30 rows \n",
    "    player_stats = [[td.getText() for td in rows[i].findAll('td')] #get the table data cell text from each table data cell\n",
    "                    for i in range(len(rows))] #for each row\n",
    "    player_stats = player_stats[2:]\n",
    "\n",
    "    stats = pd.DataFrame(player_stats, columns = headers)\n",
    "    \n",
    "    stats = stats.replace(r'', 'N/A', regex=True)\n",
    "    stats['Year'] = year\n",
    "    \n",
    "    stats.to_csv('{}playerstats.csv'.format(year)) #add your desired path to the function\n",
    "    \n",
    "    print(\"Player data for the year {} has been created.\".format(year))"
   ]
  },
  {
   "cell_type": "code",
   "execution_count": 9,
   "id": "03b28d32-3a76-4fe6-b493-52fb57010b68",
   "metadata": {},
   "outputs": [
    {
     "name": "stdout",
     "output_type": "stream",
     "text": [
      "Player data for the year 2023 has been created.\n"
     ]
    }
   ],
   "source": [
    "player_csv(2023)"
   ]
  }
 ],
 "metadata": {
  "kernelspec": {
   "display_name": "Python 3 (ipykernel)",
   "language": "python",
   "name": "python3"
  },
  "language_info": {
   "codemirror_mode": {
    "name": "ipython",
    "version": 3
   },
   "file_extension": ".py",
   "mimetype": "text/x-python",
   "name": "python",
   "nbconvert_exporter": "python",
   "pygments_lexer": "ipython3",
   "version": "3.13.2"
  }
 },
 "nbformat": 4,
 "nbformat_minor": 5
}
