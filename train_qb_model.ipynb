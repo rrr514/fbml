{
 "cells": [
  {
   "cell_type": "code",
   "execution_count": null,
   "id": "c9df094f-4be6-4048-bcad-5f823d273999",
   "metadata": {},
   "outputs": [],
   "source": [
    "import pandas as pd\n",
    "\n",
    "# Train with 2022-2023 data, Test with 2023-2024 data\n",
    "df_22 = pd.read_csv('2022playerstats_QB.csv')\n",
    "df_23 = pd.read_csv('2023playerstats_QB.csv')\n",
    "df_24 = pd.read_csv('2024playerstats_QB.csv')\n",
    "print(df_22.head())\n",
    "# print(df_22.info())\n",
    "print(df_23.head())\n",
    "# print(df_23.info())\n",
    "print(df_24.head())\n",
    "# print(df_24.info())"
   ]
  },
  {
   "cell_type": "markdown",
   "id": "f19ba829-f112-4176-90bd-03e6e8677996",
   "metadata": {},
   "source": [
    "# QB model:\n",
    "- pass attempts per game\n",
    "- passing yds per game\n",
    "- passing tds per game\n",
    "- interceptions per game\n",
    "- rush yds per game\n",
    "- rush tds per game"
   ]
  },
  {
   "cell_type": "code",
   "execution_count": null,
   "id": "3b8c505e",
   "metadata": {},
   "outputs": [],
   "source": [
    "def compute_features(df):\n",
    "    # Compute the features needed\n",
    "    df['PassAttPerGame'] = df['PassAtt'] / df['GamesPlayed'].replace(0, pd.NA)\n",
    "    df['PassAttPerGame'] = df['PassAttPerGame'].fillna(0)\n",
    "\n",
    "    df['PassYdsPerGame'] = df['PassYds'] / df['GamesPlayed'].replace(0, pd.NA)\n",
    "    df['PassYdsPerGame'] = df['PassYdsPerGame'].fillna(0)\n",
    "\n",
    "    df['PassTDsPerGame'] = df['PassTD'] / df['GamesPlayed'].replace(0, pd.NA)\n",
    "    df['PassTDsPerGame'] = df['PassTDsPerGame'].fillna(0)\n",
    "\n",
    "    df['PassIntPerGame'] = df['PassInt'] / df['GamesPlayed'].replace(0, pd.NA)\n",
    "    df['PassIntPerGame'] = df['PassIntPerGame'].fillna(0)\n",
    "\n",
    "    df['RushYdsPerGame'] = df['RushYds'] / df['GamesPlayed'].replace(0, pd.NA)\n",
    "    df['RushYdsPerGame'] = df['RushYdsPerGame'].fillna(0)\n",
    "\n",
    "    df['RushTDsPerGame'] = df['RushTD'] / df['GamesPlayed'].replace(0, pd.NA)\n",
    "    df['RushTDsPerGame'] = df['RushTDsPerGame'].fillna(0)"
   ]
  },
  {
   "cell_type": "code",
   "execution_count": null,
   "id": "37d2b796-2fc3-4a0b-b19d-c1b26c67a4f7",
   "metadata": {},
   "outputs": [],
   "source": [
    "compute_features(df_22)\n",
    "compute_features(df_23)\n",
    "\n",
    "print(df_22.head())\n",
    "print(df_23.head())"
   ]
  },
  {
   "cell_type": "code",
   "execution_count": null,
   "id": "9e2e579a-908d-4cf2-967f-68f5b5f07fe3",
   "metadata": {},
   "outputs": [],
   "source": [
    "# Keep only the features we want\n",
    "features = [\n",
    "    'PassAttPerGame',\n",
    "    'PassYdsPerGame',\n",
    "    'PassTDsPerGame',\n",
    "    'PassIntPerGame',\n",
    "    'RushYdsPerGame',\n",
    "    'RushTDsPerGame'\n",
    "]\n",
    "\n",
    "# Merge the data frames to remove players that are not in both\n",
    "df_22_23_merged = df_22.merge(df_23, on='Player', how='inner', suffixes=('', '_23'))\n",
    "df_23_24_merged = df_23.merge(df_24, on='Player', how='inner', suffixes=('', '_24'))\n",
    "\n",
    "y_test = df_23_24_merged['FantasyPtsPPR_24']\n",
    "y_train = df_22_23_merged['FantasyPtsPPR_23']\n",
    "X_test = df_23_24_merged[features]\n",
    "X_train = df_22_23_merged[features]\n",
    "\n",
    "print(y_train.head())\n",
    "print(X_train.head())\n",
    "print(y_test.head())\n",
    "print(X_test.head())"
   ]
  },
  {
   "cell_type": "code",
   "execution_count": null,
   "id": "1a9843ba-6009-48da-b251-a968417bc4cc",
   "metadata": {},
   "outputs": [],
   "source": [
    "# Normalize the data\n",
    "from sklearn.preprocessing import StandardScaler\n",
    "scaler = StandardScaler().fit(X_train)\n",
    "X_train = scaler.transform(X_train)\n",
    "X_test = scaler.transform(X_test)\n",
    "\n",
    "print(X_train[:5])\n",
    "print(X_test[:5])"
   ]
  },
  {
   "cell_type": "code",
   "execution_count": 27,
   "id": "b88262bc-0660-445d-a990-88714ae67780",
   "metadata": {},
   "outputs": [
    {
     "name": "stdout",
     "output_type": "stream",
     "text": [
      "Training RMSE: 88.4336996362048\n",
      "Training R^2: 0.4324899853720058\n",
      "Training MAE: 71.62223895711469\n",
      "Testing RMSE: 100.52369007353049\n",
      "Testing R^2: 0.2947701279509122\n",
      "Testing MAE: 77.75720657749756\n"
     ]
    }
   ],
   "source": [
    "# Train and evaluate\n",
    "from sklearn.linear_model import LinearRegression\n",
    "model = LinearRegression().fit(X_train, y_train)\n",
    "\n",
    "train_preds = model.predict(X_train)\n",
    "preds = model.predict(X_test)\n",
    "from sklearn.metrics import root_mean_squared_error, r2_score, mean_absolute_error\n",
    "print(\"Training RMSE:\", root_mean_squared_error(y_train, train_preds))\n",
    "print(\"Training R^2:\", r2_score(y_train, train_preds))\n",
    "print(\"Training MAE:\", mean_absolute_error(y_train, train_preds))\n",
    "print(\"Testing RMSE:\", root_mean_squared_error(y_test, preds))\n",
    "print(\"Testing R^2:\", r2_score(y_test, preds))\n",
    "print(\"Testing MAE:\", mean_absolute_error(y_test, preds))"
   ]
  },
  {
   "cell_type": "code",
   "execution_count": null,
   "id": "a12b984b",
   "metadata": {},
   "outputs": [],
   "source": [
    "print(preds[:5])\n",
    "print(y_test.head())"
   ]
  },
  {
   "cell_type": "code",
   "execution_count": null,
   "id": "07190fca-fb48-4eb5-900c-6f56c2073866",
   "metadata": {},
   "outputs": [],
   "source": [
    "# Model coefficients\n",
    "print(\"Intercept:\", model.intercept_)\n",
    "print(\"Feature Coefficients:\")\n",
    "for feat, coef in zip(features, model.coef_):\n",
    "    print(f\"{feat}: {coef:.4f}\")"
   ]
  },
  {
   "cell_type": "code",
   "execution_count": null,
   "id": "c306efdb",
   "metadata": {},
   "outputs": [],
   "source": [
    "# actual - 1d data frame\n",
    "# predicted - 1d numpy array\n",
    "# player - 1d data frame that matches the predictions to the player\n",
    "# display - T/F for displaying a preview of the results\n",
    "def compute_rank_squared_error(actual, predicted, player, display):\n",
    "    results = pd.DataFrame({\n",
    "        'Player': player,\n",
    "        'Actual': actual.values,\n",
    "        'Predicted': predicted\n",
    "    }, index=actual.index)\n",
    "\n",
    "    results['ActualRank'] = results['Actual'].rank(ascending=False, method='min').astype(int)\n",
    "    results['PredictedRank'] = results['Predicted'].rank(ascending=False, method='min').astype(int)\n",
    "\n",
    "    results['RankError'] = results['PredictedRank'] - results['ActualRank']\n",
    "\n",
    "    rank_squared_error = (results['RankError'] ** 2).sum()\n",
    "\n",
    "    if display:\n",
    "        print(results.head())\n",
    "\n",
    "    return rank_squared_error"
   ]
  },
  {
   "cell_type": "code",
   "execution_count": null,
   "id": "3115966e",
   "metadata": {},
   "outputs": [],
   "source": [
    "rank_squared_error = compute_rank_squared_error(y_test, preds, df_23_24_merged['Player'], True)\n",
    "\n",
    "print(\"2024 Rank Squared Error:\", rank_squared_error)\n",
    "# print(results.head())"
   ]
  },
  {
   "cell_type": "code",
   "execution_count": null,
   "id": "d33e86b7-303d-4dc9-9289-c5927da77570",
   "metadata": {},
   "outputs": [],
   "source": [
    "results = pd.DataFrame({\n",
    "    'Actual': y_test.values,\n",
    "    'Predicted': preds\n",
    "}, index=y_test.index)\n",
    "\n",
    "# Compute the rankings\n",
    "results['ActualRank'] = results['Actual'].rank(ascending=False, method='min').astype(int)\n",
    "results['PredictedRank'] = results['Predicted'].rank(ascending=False, method='min').astype(int)\n",
    "\n",
    "results['RankError'] = (results['PredictedRank'] - results['ActualRank'])\n",
    "\n",
    "print(results.head())\n"
   ]
  },
  {
   "cell_type": "code",
   "execution_count": null,
   "id": "27fc6330",
   "metadata": {},
   "outputs": [],
   "source": []
  }
 ],
 "metadata": {
  "kernelspec": {
   "display_name": "Python (fb)",
   "language": "python",
   "name": "fb"
  },
  "language_info": {
   "codemirror_mode": {
    "name": "ipython",
    "version": 3
   },
   "file_extension": ".py",
   "mimetype": "text/x-python",
   "name": "python",
   "nbconvert_exporter": "python",
   "pygments_lexer": "ipython3",
   "version": "3.13.2"
  }
 },
 "nbformat": 4,
 "nbformat_minor": 5
}
