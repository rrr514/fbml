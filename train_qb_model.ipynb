{
 "cells": [
  {
   "cell_type": "code",
   "execution_count": 25,
   "id": "c9df094f-4be6-4048-bcad-5f823d273999",
   "metadata": {},
   "outputs": [
    {
     "name": "stdout",
     "output_type": "stream",
     "text": [
      "            Player FantPos  Age  GamesPlayed  GamesStarted  PassCmp  PassAtt  \\\n",
      "0  Patrick Mahomes      QB   27           17            17      435      648   \n",
      "1       Josh Allen      QB   26           16            16      359      567   \n",
      "2      Jalen Hurts      QB   24           15            15      306      460   \n",
      "3       Joe Burrow      QB   26           16            16      414      606   \n",
      "4       Geno Smith      QB   32           17            17      399      572   \n",
      "\n",
      "   PassYds  PassTD  PassInt  ...  Team_NWE  Team_NYG  Team_NYJ  Team_PHI  \\\n",
      "0     5250      41       12  ...     False     False     False     False   \n",
      "1     4283      35       14  ...     False     False     False     False   \n",
      "2     3701      22        6  ...     False     False     False      True   \n",
      "3     4475      35       12  ...     False     False     False     False   \n",
      "4     4282      30       11  ...     False     False     False     False   \n",
      "\n",
      "   Team_PIT  Team_SEA  Team_SFO  Team_TAM  Team_TEN  Team_WAS  \n",
      "0     False     False     False     False     False     False  \n",
      "1     False     False     False     False     False     False  \n",
      "2     False     False     False     False     False     False  \n",
      "3     False     False     False     False     False     False  \n",
      "4     False      True     False     False     False     False  \n",
      "\n",
      "[5 rows x 67 columns]\n",
      "          Player FantPos  Age  GamesPlayed  GamesStarted  PassCmp  PassAtt  \\\n",
      "0     Josh Allen      QB   27           17            17      385      579   \n",
      "1    Jalen Hurts      QB   25           17            17      352      538   \n",
      "2   Dak Prescott      QB   30           17            17      410      590   \n",
      "3  Lamar Jackson      QB   26           16            16      307      457   \n",
      "4    Jordan Love      QB   25           17            17      372      579   \n",
      "\n",
      "   PassYds  PassTD  PassInt  ...  Team_NWE  Team_NYG  Team_NYJ  Team_PHI  \\\n",
      "0     4306      29       18  ...     False     False     False     False   \n",
      "1     3858      23       15  ...     False     False     False      True   \n",
      "2     4516      36        9  ...     False     False     False     False   \n",
      "3     3678      24        7  ...     False     False     False     False   \n",
      "4     4159      32       11  ...     False     False     False     False   \n",
      "\n",
      "   Team_PIT  Team_SEA  Team_SFO  Team_TAM  Team_TEN  Team_WAS  \n",
      "0     False     False     False     False     False     False  \n",
      "1     False     False     False     False     False     False  \n",
      "2     False     False     False     False     False     False  \n",
      "3     False     False     False     False     False     False  \n",
      "4     False     False     False     False     False     False  \n",
      "\n",
      "[5 rows x 67 columns]\n",
      "           Player FantPos  Age  GamesPlayed  GamesStarted  PassCmp  PassAtt  \\\n",
      "0   Lamar Jackson      QB   27           17            17    316.0    474.0   \n",
      "1      Josh Allen      QB   28           17            17    307.0    483.0   \n",
      "2      Joe Burrow      QB   28           17            17    460.0    652.0   \n",
      "3  Baker Mayfield      QB   29           17            17    407.0    570.0   \n",
      "4  Jayden Daniels      QB   24           17            17    331.0    480.0   \n",
      "\n",
      "   PassYds  PassTD  PassInt  ...  Team_NWE  Team_NYG  Team_NYJ  Team_PHI  \\\n",
      "0   4172.0    41.0      4.0  ...     False     False     False     False   \n",
      "1   3731.0    28.0      6.0  ...     False     False     False     False   \n",
      "2   4918.0    43.0      9.0  ...     False     False     False     False   \n",
      "3   4500.0    41.0     16.0  ...     False     False     False     False   \n",
      "4   3568.0    25.0      9.0  ...     False     False     False     False   \n",
      "\n",
      "   Team_PIT  Team_SEA  Team_SFO  Team_TAM  Team_TEN  Team_WAS  \n",
      "0     False     False     False     False     False     False  \n",
      "1     False     False     False     False     False     False  \n",
      "2     False     False     False     False     False     False  \n",
      "3     False     False     False      True     False     False  \n",
      "4     False     False     False     False     False      True  \n",
      "\n",
      "[5 rows x 67 columns]\n"
     ]
    }
   ],
   "source": [
    "import pandas as pd\n",
    "\n",
    "# Train with 2022-2023 data, Test with 2023-2024 data\n",
    "df_22 = pd.read_csv('data/2022playerstats_QB.csv')\n",
    "df_23 = pd.read_csv('data/2023playerstats_QB.csv')\n",
    "df_24 = pd.read_csv('data/2024playerstats_QB.csv')\n",
    "print(df_22.head())\n",
    "# print(df_22.info())\n",
    "print(df_23.head())\n",
    "# print(df_23.info())\n",
    "print(df_24.head())\n",
    "# print(df_24.info())"
   ]
  },
  {
   "cell_type": "markdown",
   "id": "f19ba829-f112-4176-90bd-03e6e8677996",
   "metadata": {},
   "source": [
    "# QB model:\n",
    "- pass attempts per game\n",
    "- passing yds per game\n",
    "- passing tds per game\n",
    "- interceptions per game\n",
    "- rush yds per game\n",
    "- rush tds per game"
   ]
  },
  {
   "cell_type": "code",
   "execution_count": 26,
   "id": "3b8c505e",
   "metadata": {},
   "outputs": [],
   "source": [
    "def compute_features(df):\n",
    "    # Compute the features needed\n",
    "    df['PassAttPerGame'] = df['PassAtt'] / df['GamesPlayed'].replace(0, pd.NA)\n",
    "    df['PassAttPerGame'] = df['PassAttPerGame'].fillna(0)\n",
    "\n",
    "    df['PassYdsPerGame'] = df['PassYds'] / df['GamesPlayed'].replace(0, pd.NA)\n",
    "    df['PassYdsPerGame'] = df['PassYdsPerGame'].fillna(0)\n",
    "\n",
    "    df['PassTDsPerGame'] = df['PassTD'] / df['GamesPlayed'].replace(0, pd.NA)\n",
    "    df['PassTDsPerGame'] = df['PassTDsPerGame'].fillna(0)\n",
    "\n",
    "    df['PassIntPerGame'] = df['PassInt'] / df['GamesPlayed'].replace(0, pd.NA)\n",
    "    df['PassIntPerGame'] = df['PassIntPerGame'].fillna(0)\n",
    "\n",
    "    df['RushYdsPerGame'] = df['RushYds'] / df['GamesPlayed'].replace(0, pd.NA)\n",
    "    df['RushYdsPerGame'] = df['RushYdsPerGame'].fillna(0)\n",
    "\n",
    "    df['RushTDsPerGame'] = df['RushTD'] / df['GamesPlayed'].replace(0, pd.NA)\n",
    "    df['RushTDsPerGame'] = df['RushTDsPerGame'].fillna(0)"
   ]
  },
  {
   "cell_type": "code",
   "execution_count": 27,
   "id": "37d2b796-2fc3-4a0b-b19d-c1b26c67a4f7",
   "metadata": {},
   "outputs": [
    {
     "name": "stdout",
     "output_type": "stream",
     "text": [
      "            Player FantPos  Age  GamesPlayed  GamesStarted  PassCmp  PassAtt  \\\n",
      "0  Patrick Mahomes      QB   27           17            17      435      648   \n",
      "1       Josh Allen      QB   26           16            16      359      567   \n",
      "2      Jalen Hurts      QB   24           15            15      306      460   \n",
      "3       Joe Burrow      QB   26           16            16      414      606   \n",
      "4       Geno Smith      QB   32           17            17      399      572   \n",
      "\n",
      "   PassYds  PassTD  PassInt  ...  Team_SFO  Team_TAM  Team_TEN  Team_WAS  \\\n",
      "0     5250      41       12  ...     False     False     False     False   \n",
      "1     4283      35       14  ...     False     False     False     False   \n",
      "2     3701      22        6  ...     False     False     False     False   \n",
      "3     4475      35       12  ...     False     False     False     False   \n",
      "4     4282      30       11  ...     False     False     False     False   \n",
      "\n",
      "   PassAttPerGame  PassYdsPerGame  PassTDsPerGame  PassIntPerGame  \\\n",
      "0       38.117647      308.823529        2.411765        0.705882   \n",
      "1       35.437500      267.687500        2.187500        0.875000   \n",
      "2       30.666667      246.733333        1.466667        0.400000   \n",
      "3       37.875000      279.687500        2.187500        0.750000   \n",
      "4       33.647059      251.882353        1.764706        0.647059   \n",
      "\n",
      "   RushYdsPerGame  RushTDsPerGame  \n",
      "0       21.058824        0.235294  \n",
      "1       47.625000        0.437500  \n",
      "2       50.666667        0.866667  \n",
      "3       16.062500        0.312500  \n",
      "4       21.529412        0.058824  \n",
      "\n",
      "[5 rows x 73 columns]\n",
      "          Player FantPos  Age  GamesPlayed  GamesStarted  PassCmp  PassAtt  \\\n",
      "0     Josh Allen      QB   27           17            17      385      579   \n",
      "1    Jalen Hurts      QB   25           17            17      352      538   \n",
      "2   Dak Prescott      QB   30           17            17      410      590   \n",
      "3  Lamar Jackson      QB   26           16            16      307      457   \n",
      "4    Jordan Love      QB   25           17            17      372      579   \n",
      "\n",
      "   PassYds  PassTD  PassInt  ...  Team_SFO  Team_TAM  Team_TEN  Team_WAS  \\\n",
      "0     4306      29       18  ...     False     False     False     False   \n",
      "1     3858      23       15  ...     False     False     False     False   \n",
      "2     4516      36        9  ...     False     False     False     False   \n",
      "3     3678      24        7  ...     False     False     False     False   \n",
      "4     4159      32       11  ...     False     False     False     False   \n",
      "\n",
      "   PassAttPerGame  PassYdsPerGame  PassTDsPerGame  PassIntPerGame  \\\n",
      "0       34.058824      253.294118        1.705882        1.058824   \n",
      "1       31.647059      226.941176        1.352941        0.882353   \n",
      "2       34.705882      265.647059        2.117647        0.529412   \n",
      "3       28.562500      229.875000        1.500000        0.437500   \n",
      "4       34.058824      244.647059        1.882353        0.647059   \n",
      "\n",
      "   RushYdsPerGame  RushTDsPerGame  \n",
      "0       30.823529        0.882353  \n",
      "1       35.588235        0.882353  \n",
      "2       14.235294        0.117647  \n",
      "3       51.312500        0.312500  \n",
      "4       14.529412        0.235294  \n",
      "\n",
      "[5 rows x 73 columns]\n"
     ]
    }
   ],
   "source": [
    "compute_features(df_22)\n",
    "compute_features(df_23)\n",
    "\n",
    "print(df_22.head())\n",
    "print(df_23.head())"
   ]
  },
  {
   "cell_type": "code",
   "execution_count": 28,
   "id": "9e2e579a-908d-4cf2-967f-68f5b5f07fe3",
   "metadata": {},
   "outputs": [
    {
     "name": "stdout",
     "output_type": "stream",
     "text": [
      "0    280.2\n",
      "1    392.6\n",
      "2    356.8\n",
      "3    147.2\n",
      "4    227.3\n",
      "Name: FantasyPtsPPR_23, dtype: float64\n",
      "   PassAttPerGame  PassYdsPerGame  PassTDsPerGame  PassIntPerGame  \\\n",
      "0       38.117647      308.823529        2.411765        0.705882   \n",
      "1       35.437500      267.687500        2.187500        0.875000   \n",
      "2       30.666667      246.733333        1.466667        0.400000   \n",
      "3       37.875000      279.687500        2.187500        0.750000   \n",
      "4       33.647059      251.882353        1.764706        0.647059   \n",
      "\n",
      "   RushYdsPerGame  RushTDsPerGame  \n",
      "0       21.058824        0.235294  \n",
      "1       47.625000        0.437500  \n",
      "2       50.666667        0.866667  \n",
      "3       16.062500        0.312500  \n",
      "4       21.529412        0.058824  \n",
      "0    379.0\n",
      "1    315.1\n",
      "2    116.5\n",
      "3    430.4\n",
      "4    233.9\n",
      "Name: FantasyPtsPPR_24, dtype: float64\n",
      "   PassAttPerGame  PassYdsPerGame  PassTDsPerGame  PassIntPerGame  \\\n",
      "0       34.058824      253.294118        1.705882        1.058824   \n",
      "1       31.647059      226.941176        1.352941        0.882353   \n",
      "2       34.705882      265.647059        2.117647        0.529412   \n",
      "3       28.562500      229.875000        1.500000        0.437500   \n",
      "4       34.058824      244.647059        1.882353        0.647059   \n",
      "\n",
      "   RushYdsPerGame  RushTDsPerGame  \n",
      "0       30.823529        0.882353  \n",
      "1       35.588235        0.882353  \n",
      "2       14.235294        0.117647  \n",
      "3       51.312500        0.312500  \n",
      "4       14.529412        0.235294  \n"
     ]
    }
   ],
   "source": [
    "# Keep only the features we want\n",
    "features = [\n",
    "    'PassAttPerGame',\n",
    "    'PassYdsPerGame',\n",
    "    'PassTDsPerGame',\n",
    "    'PassIntPerGame',\n",
    "    'RushYdsPerGame',\n",
    "    'RushTDsPerGame'\n",
    "]\n",
    "\n",
    "# Merge the data frames to remove players that are not in both\n",
    "df_22_23_merged = df_22.merge(df_23, on='Player', how='inner', suffixes=('', '_23'))\n",
    "df_23_24_merged = df_23.merge(df_24, on='Player', how='inner', suffixes=('', '_24'))\n",
    "\n",
    "y_test = df_23_24_merged['FantasyPtsPPR_24']\n",
    "y_train = df_22_23_merged['FantasyPtsPPR_23']\n",
    "X_test = df_23_24_merged[features]\n",
    "X_train = df_22_23_merged[features]\n",
    "\n",
    "print(y_train.head())\n",
    "print(X_train.head())\n",
    "print(y_test.head())\n",
    "print(X_test.head())"
   ]
  },
  {
   "cell_type": "code",
   "execution_count": 29,
   "id": "1a9843ba-6009-48da-b251-a968417bc4cc",
   "metadata": {},
   "outputs": [
    {
     "name": "stdout",
     "output_type": "stream",
     "text": [
      "[[ 1.22416271  1.68110358  2.43432444  0.18402528  0.47726583  0.53708119]\n",
      " [ 0.99070487  1.19255375  2.05701     0.59718102  2.15211566  1.58457786]\n",
      " [ 0.57513497  0.94369272  0.84424304 -0.56324773  2.34387585  3.80781018]\n",
      " [ 1.20302661  1.3350711   2.05701     0.29180504  0.16227539  0.93703446]\n",
      " [ 0.83474607  1.00484478  1.3456795   0.04031893  0.50693381 -0.37709772]]\n",
      "[[ 0.87061339  1.02161152  1.24671178  1.04626335  1.09287629  3.88907053]\n",
      " [ 0.66053336  0.70863224  0.65290544  0.61514432  1.39326452  3.88907053]\n",
      " [ 0.92697633  1.16832056  1.93948583 -0.24709376  0.04708021 -0.07237142]\n",
      " [ 0.39184868  0.74347564  0.90032475 -0.47163493  2.38459205  0.93703446]\n",
      " [ 0.87061339  0.9189152   1.54361494  0.04031893  0.0656227   0.53708119]]\n"
     ]
    }
   ],
   "source": [
    "# Normalize the data\n",
    "from sklearn.preprocessing import StandardScaler\n",
    "scaler = StandardScaler().fit(X_train)\n",
    "X_train = scaler.transform(X_train)\n",
    "X_test = scaler.transform(X_test)\n",
    "\n",
    "print(X_train[:5])\n",
    "print(X_test[:5])"
   ]
  },
  {
   "cell_type": "code",
   "execution_count": 30,
   "id": "d084bde5",
   "metadata": {},
   "outputs": [
    {
     "name": "stdout",
     "output_type": "stream",
     "text": [
      "Training samples: 65\n",
      "Testing samples: 64\n",
      "Features: 6\n",
      "Samples per feature: 10.8\n",
      "Training target stats: mean=115.4, std=118.3\n",
      "Testing target stats: mean=122.5, std=120.6\n"
     ]
    }
   ],
   "source": [
    "from helpers import print_diagnostics\n",
    "print_diagnostics(X_train, X_test, features, y_train, y_test)"
   ]
  },
  {
   "cell_type": "code",
   "execution_count": 31,
   "id": "b88262bc-0660-445d-a990-88714ae67780",
   "metadata": {},
   "outputs": [
    {
     "name": "stdout",
     "output_type": "stream",
     "text": [
      "Training RMSE: 88.4336996362048\n",
      "Training R^2: 0.4324899853720058\n",
      "Training MAE: 71.62223895711469\n",
      "Testing RMSE: 100.52369007353049\n",
      "Testing R^2: 0.2947701279509122\n",
      "Testing MAE: 77.75720657749756\n"
     ]
    }
   ],
   "source": [
    "# Train and evaluate\n",
    "from sklearn.linear_model import LinearRegression\n",
    "model = LinearRegression().fit(X_train, y_train)\n",
    "\n",
    "train_preds = model.predict(X_train)\n",
    "preds = model.predict(X_test)\n",
    "\n",
    "from helpers import evaluate_model\n",
    "evaluate_model(y_train, train_preds, y_test, preds)"
   ]
  },
  {
   "cell_type": "code",
   "execution_count": 32,
   "id": "a12b984b",
   "metadata": {},
   "outputs": [
    {
     "name": "stdout",
     "output_type": "stream",
     "text": [
      "[235.63082223 212.19285062 239.95854635 261.84944888 207.64678751]\n",
      "0    379.0\n",
      "1    315.1\n",
      "2    116.5\n",
      "3    430.4\n",
      "4    233.9\n",
      "Name: FantasyPtsPPR_24, dtype: float64\n"
     ]
    }
   ],
   "source": [
    "print(preds[:5])\n",
    "print(y_test.head())"
   ]
  },
  {
   "cell_type": "code",
   "execution_count": 33,
   "id": "07190fca-fb48-4eb5-900c-6f56c2073866",
   "metadata": {},
   "outputs": [
    {
     "name": "stdout",
     "output_type": "stream",
     "text": [
      "Intercept: 115.37999999999998\n",
      "Feature Coefficients:\n",
      "PassAttPerGame: -56.8784\n",
      "PassYdsPerGame: 68.2831\n",
      "PassTDsPerGame: 47.9280\n",
      "PassIntPerGame: -15.8836\n",
      "RushYdsPerGame: 25.2887\n",
      "RushTDsPerGame: 7.5184\n"
     ]
    }
   ],
   "source": [
    "# Model coefficients\n",
    "print(\"Intercept:\", model.intercept_)\n",
    "print(\"Feature Coefficients:\")\n",
    "for feat, coef in zip(features, model.coef_):\n",
    "    print(f\"{feat}: {coef:.4f}\")"
   ]
  },
  {
   "cell_type": "code",
   "execution_count": 34,
   "id": "c306efdb",
   "metadata": {},
   "outputs": [],
   "source": [
    "from helpers import compute_rank_squared_error, build_results_df"
   ]
  },
  {
   "cell_type": "code",
   "execution_count": 35,
   "id": "3115966e",
   "metadata": {},
   "outputs": [
    {
     "name": "stdout",
     "output_type": "stream",
     "text": [
      "                      Player  Actual   Predicted  ActualRank  PredictedRank  RankError\n",
      "0                 Josh Allen   379.0  235.630822           2              4          2\n",
      "1                Jalen Hurts   315.1  212.192851           6              8          2\n",
      "2               Dak Prescott   116.5  239.958546          28              3        -25\n",
      "3              Lamar Jackson   430.4  261.849449           1              1          0\n",
      "4                Jordan Love   233.9  207.646788          14              9         -5\n",
      "5                Brock Purdy   266.9  247.202759          11              2         -9\n",
      "6                 Jared Goff   324.5  182.367690           5             14          9\n",
      "7            Patrick Mahomes   283.0  187.018688          10             13          3\n",
      "8                C.J. Stroud   220.4  212.508414          15              7         -8\n",
      "9             Baker Mayfield   365.8  174.507880           4             18         14\n",
      "10            Tua Tagovailoa   181.6  188.899834          18             12         -6\n",
      "11           Trevor Lawrence   145.2  163.288976          23             21         -2\n",
      "12                Sam Howell    -0.8  116.657617          63             34        -29\n",
      "13            Russell Wilson   172.8  200.426028          20             11         -9\n",
      "14          Matthew Stafford   214.6  168.733978          16             20          4\n",
      "15                Derek Carr   150.9  148.343787          22             25          3\n",
      "16            Justin Herbert   285.4  180.812297           9             15          6\n",
      "17             Justin Fields   119.1  202.733037          27             10        -17\n",
      "18                Geno Smith   266.0  153.397879          12             23         11\n",
      "19              Joshua Dobbs    30.8  134.163071          42             30        -12\n",
      "20        Gardner Minshew II    96.3  100.697469          31             37          6\n",
      "21            Desmond Ridder    21.9  111.116672          44             35         -9\n",
      "22               Bryce Young   195.0   58.012577          17             51         34\n",
      "23              Kirk Cousins   176.3  224.834989          19              6        -13\n",
      "24                Joe Burrow   372.8  137.099411           3             28         25\n",
      "25              Kyler Murray   297.2  175.149689           8             17          9\n",
      "26             Jake Browning    -0.2  172.475136          60             19        -41\n",
      "27           Aidan O'Connell    93.5   96.422907          34             38          4\n",
      "28             Kenny Pickett    25.1   62.908059          43             49          6\n",
      "29                 Mac Jones    96.1   64.776816          32             48         16\n",
      "30                Will Levis   119.9  110.376294          26             36         10\n",
      "31                Joe Flacco    99.0  227.151001          30              5        -25\n",
      "32              Tommy DeVito    13.5  117.816780          50             33        -17\n",
      "33              Tyrod Taylor    20.1   91.397469          45             39         -6\n",
      "34            Deshaun Watson    76.7  140.915600          36             27         -9\n",
      "35        Anthony Richardson   163.4  175.852740          21             16         -5\n",
      "36              Bailey Zappe     7.0   47.689831          52             52          0\n",
      "37              Nick Mullens     1.3  142.931496          55             26        -29\n",
      "38           Taylor Heinicke     3.1  125.495775          54             32        -22\n",
      "39           Jimmy Garoppolo    19.9   78.598834          46             43         -3\n",
      "40              Daniel Jones   135.3   59.030062          24             50         26\n",
      "41              Tyson Bagent    -0.3   68.762074          62             46        -16\n",
      "42         Mitchell Trubisky    15.3   73.967319          48             44         -4\n",
      "43             Mason Rudolph    95.8  136.762851          33             29         -4\n",
      "44                 Drew Lock    80.1   71.891936          35             45         10\n",
      "45           Jarrett Stidham     0.5   89.139390          58             40        -18\n",
      "46             Tyler Huntley    60.7   81.165675          37             41          4\n",
      "47              Carson Wentz     4.7  150.973473          53             24        -29\n",
      "48               Andy Dalton    59.0   80.918459          38             42          4\n",
      "49           Jacoby Brissett    45.2  132.285711          41             31        -10\n",
      "50               Sam Darnold   308.0   38.812557           7             55         48\n",
      "51  Dorian Thompson-Robinson    15.8   -2.143966          47             63         16\n",
      "52               Davis Mills     9.6   39.433340          51             54          3\n",
      "53              Jeff Driskel     0.0  161.065324          59             22        -37\n",
      "54            Marcus Mariota    45.8   66.911607          40             47          7\n",
      "55            Jameis Winston   131.1   21.345690          25             57         32\n",
      "56                 Tim Boyle    13.9  -33.067575          49             64         15\n",
      "57              Clayton Tune    -2.1   12.613741          64             61         -3\n",
      "58               Cooper Rush   109.6   11.998043          29             62         33\n",
      "59              Malik Willis    51.8   41.890822          39             53         14\n",
      "60                Mike White     1.1   28.612421          56             56          0\n",
      "61             Aaron Rodgers   256.6   14.029920          13             60         47\n",
      "62                Kyle Trask    -0.2   15.710001          60             59         -1\n",
      "63                Kyle Allen     0.8   16.023528          57             58          1\n",
      "2024 Rank Squared Error: 20395\n"
     ]
    }
   ],
   "source": [
    "results = build_results_df(y_test, preds, df_23_24_merged['Player'])\n",
    "rank_squared_error = compute_rank_squared_error(results)\n",
    "\n",
    "print(results.to_string())\n",
    "print(\"2024 Rank Squared Error:\", rank_squared_error)\n",
    "# print(results.head())"
   ]
  },
  {
   "cell_type": "code",
   "execution_count": null,
   "id": "27fc6330",
   "metadata": {},
   "outputs": [
    {
     "name": "stdout",
     "output_type": "stream",
     "text": [
      "Model saved as 'qb_model.joblib'\n"
     ]
    }
   ],
   "source": [
    "import joblib\n",
    "import os\n",
    "\n",
    "model_package = {\n",
    "    'model': model,\n",
    "    'scaler': scaler,\n",
    "    'features': features\n",
    "}\n",
    "\n",
    "os.makedirs('models', exist_ok=True)\n",
    "filepath = os.path.join('models', 'qb_model.joblib')\n",
    "\n",
    "joblib.dump(model_package, filepath)\n",
    "\n",
    "print(\"Model saved as 'qb_model.joblib'\")"
   ]
  },
  {
   "cell_type": "code",
   "execution_count": null,
   "id": "bb322461",
   "metadata": {},
   "outputs": [],
   "source": []
  }
 ],
 "metadata": {
  "kernelspec": {
   "display_name": "Python (fb)",
   "language": "python",
   "name": "fb"
  },
  "language_info": {
   "codemirror_mode": {
    "name": "ipython",
    "version": 3
   },
   "file_extension": ".py",
   "mimetype": "text/x-python",
   "name": "python",
   "nbconvert_exporter": "python",
   "pygments_lexer": "ipython3",
   "version": "3.13.2"
  }
 },
 "nbformat": 4,
 "nbformat_minor": 5
}
