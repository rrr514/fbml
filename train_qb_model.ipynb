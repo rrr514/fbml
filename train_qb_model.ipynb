{
 "cells": [
  {
   "cell_type": "code",
   "execution_count": 25,
   "id": "c9df094f-4be6-4048-bcad-5f823d273999",
   "metadata": {},
   "outputs": [],
   "source": [
    "import pandas as pd"
   ]
  },
  {
   "cell_type": "code",
   "execution_count": 26,
   "id": "88e914d9",
   "metadata": {},
   "outputs": [
    {
     "name": "stdout",
     "output_type": "stream",
     "text": [
      "Train years: [2020, 2021, 2022]\n",
      "Test years: (2023, 2024)\n"
     ]
    }
   ],
   "source": [
    "# Fix: Use list instead of generator for train_years\n",
    "train_years = list(range(2020, 2023))  # Changed from generator to list\n",
    "test_years = (2023, 2024)\n",
    "\n",
    "train_data = {}\n",
    "test_data = {}\n",
    "\n",
    "print(\"Train years:\", train_years)\n",
    "print(\"Test years:\", test_years)"
   ]
  },
  {
   "cell_type": "code",
   "execution_count": 27,
   "id": "fb933888",
   "metadata": {},
   "outputs": [],
   "source": [
    "for year in train_years:\n",
    "    train_data[year] = pd.read_csv(f\"data/{year}playerstats_QB.csv\")\n",
    "\n",
    "for year in test_years:\n",
    "    test_data[year] = pd.read_csv(f\"data/{year}playerstats_QB.csv\")"
   ]
  },
  {
   "cell_type": "markdown",
   "id": "f19ba829-f112-4176-90bd-03e6e8677996",
   "metadata": {},
   "source": [
    "# QB model:\n",
    "- pass attempts per game\n",
    "- passing yds per game\n",
    "- passing tds per game\n",
    "- interceptions per game\n",
    "- rush yds per game\n",
    "- rush tds per game"
   ]
  },
  {
   "cell_type": "code",
   "execution_count": 28,
   "id": "3b8c505e",
   "metadata": {},
   "outputs": [],
   "source": [
    "from helpers import compute_qb_features"
   ]
  },
  {
   "cell_type": "code",
   "execution_count": 29,
   "id": "ecbfd80c",
   "metadata": {},
   "outputs": [
    {
     "name": "stdout",
     "output_type": "stream",
     "text": [
      "Computing features for training year 2020\n",
      "Computing features for training year 2021\n",
      "Computing features for training year 2022\n",
      "Computing features for test year 2023\n",
      "Computing features for test year 2024\n"
     ]
    }
   ],
   "source": [
    "for year in train_years:\n",
    "    print(f\"Computing features for training year {year}\")\n",
    "    compute_qb_features(train_data[year])\n",
    "\n",
    "for year in test_years:\n",
    "    print(f\"Computing features for test year {year}\")\n",
    "    compute_qb_features(test_data[year])"
   ]
  },
  {
   "cell_type": "code",
   "execution_count": 46,
   "id": "1ea4c3d0",
   "metadata": {},
   "outputs": [
    {
     "name": "stdout",
     "output_type": "stream",
     "text": [
      "X_train shape: (210, 6)\n",
      "y_train shape: (210,)\n",
      "X_test shape: (64, 6)\n",
      "y_test shape: (64,)\n",
      "     PassAttPerGame  PassYdsPerGame  PassTDsPerGame  PassIntPerGame  \\\n",
      "74         0.500000       10.000000        0.000000        0.000000   \n",
      "1         32.875000      268.687500        3.000000        0.312500   \n",
      "86        33.187500      257.187500        2.312500        0.250000   \n",
      "177       31.882353      217.352941        1.529412        0.705882   \n",
      "28        30.272727      197.272727        1.272727        0.727273   \n",
      "\n",
      "     RushYdsPerGame  RushTDsPerGame  \n",
      "74         0.000000        0.000000  \n",
      "1          9.312500        0.187500  \n",
      "86         6.312500        0.187500  \n",
      "177        5.529412        0.058824  \n",
      "28        10.363636        0.000000  \n",
      "74      0.400000\n",
      "1      20.831250\n",
      "86     14.070588\n",
      "177     0.000000\n",
      "28     10.525000\n",
      "Name: NextYearFantasyPtsPPR_PerGame, dtype: float64\n",
      "     PassAttPerGame  PassYdsPerGame  PassTDsPerGame  PassIntPerGame  \\\n",
      "328        1.000000        0.000000        0.000000        0.000000   \n",
      "276       31.181818      201.636364        1.090909        0.636364   \n",
      "301       19.333333      120.333333        0.666667        0.000000   \n",
      "286       21.000000      144.250000        0.750000        0.250000   \n",
      "287       21.200000      127.200000        0.600000        0.900000   \n",
      "\n",
      "     RushYdsPerGame  RushTDsPerGame  \n",
      "328             0.0        0.000000  \n",
      "276             1.0        0.090909  \n",
      "301             4.0        0.000000  \n",
      "286            34.0        1.000000  \n",
      "287             8.3        0.100000  \n",
      "328    15.094118\n",
      "276    10.388889\n",
      "301     9.833333\n",
      "286    14.854545\n",
      "287     7.000000\n",
      "Name: NextYearFantasyPtsPPR_PerGame, dtype: float64\n"
     ]
    }
   ],
   "source": [
    "# Keep only the features we want\n",
    "features = [\n",
    "    'PassAttPerGame',\n",
    "    'PassYdsPerGame',\n",
    "    'PassTDsPerGame',\n",
    "    'PassIntPerGame',\n",
    "    'RushYdsPerGame',\n",
    "    'RushTDsPerGame'\n",
    "]\n",
    "\n",
    "all_dfs = list(train_data.values()) + list(test_data.values())\n",
    "combined_df = pd.concat(all_dfs, ignore_index=True)\n",
    "\n",
    "combined_df['FantasyPtsPPR_PerGame'] = combined_df['FantasyPtsPPR'] / combined_df['GamesPlayed']\n",
    "combined_df['FantasyPtsPPR_PerGame'] = combined_df['FantasyPtsPPR_PerGame'].fillna(0)\n",
    "\n",
    "combined_df = combined_df.sort_values(by=['Player', 'Year'])\n",
    "\n",
    "combined_df['NextYearFantasyPtsPPR_PerGame'] = combined_df.groupby('Player')['FantasyPtsPPR_PerGame'].shift(-1)\n",
    "\n",
    "final_df = combined_df.dropna(subset=['NextYearFantasyPtsPPR_PerGame'])\n",
    "\n",
    "X_train = final_df[final_df['Year'] < test_years[0]][features]\n",
    "y_train = final_df[final_df['Year'] < test_years[0]]['NextYearFantasyPtsPPR_PerGame']\n",
    "\n",
    "X_test = final_df[final_df['Year'] == test_years[0]][features]\n",
    "y_test = final_df[final_df['Year'] == test_years[0]]['NextYearFantasyPtsPPR_PerGame']\n",
    "\n",
    "print(\"X_train shape:\", X_train.shape)\n",
    "print(\"y_train shape:\", y_train.shape)\n",
    "print(\"X_test shape:\", X_test.shape)\n",
    "print(\"y_test shape:\", y_test.shape)\n",
    "print(X_train.head())\n",
    "print(y_train.head())\n",
    "print(X_test.head())\n",
    "print(y_test.head())\n"
   ]
  },
  {
   "cell_type": "code",
   "execution_count": 35,
   "id": "1a9843ba-6009-48da-b251-a968417bc4cc",
   "metadata": {},
   "outputs": [
    {
     "name": "stdout",
     "output_type": "stream",
     "text": [
      "[[-1.67406575 -1.51344561 -1.28742162 -1.33372768 -0.80672685 -0.66389049]\n",
      " [ 0.81517309  1.17496572  2.83730432 -0.56852486 -0.19532316  0.36162408]\n",
      " [ 0.83920049  1.0554519   1.89205462 -0.72156542 -0.39228542  0.36162408]\n",
      " [ 0.73885075  0.64147102  0.81537984  0.39473046 -0.44369836 -0.34216043]\n",
      " [ 0.61509036  0.43278728  0.46246211  0.44710798 -0.12631176 -0.66389049]]\n",
      "[[-1.63562191 -1.61737067 -1.28742162 -1.33372768 -0.80672685 -0.66389049]\n",
      " [ 0.68498826  0.4781364   0.21247872  0.22450352 -0.74107276 -0.16667131]\n",
      " [-0.22601433 -0.36680581 -0.37081586 -1.33372768 -0.5441105  -0.66389049]\n",
      " [-0.09786818 -0.11825171 -0.25624014 -0.72156542  1.42551213  4.80552056]\n",
      " [-0.08249065 -0.29544394 -0.46247643  0.87005645 -0.26179792 -0.11694939]]\n"
     ]
    }
   ],
   "source": [
    "# Normalize the data\n",
    "from sklearn.preprocessing import StandardScaler\n",
    "scaler = StandardScaler().fit(X_train)\n",
    "X_train = scaler.transform(X_train)\n",
    "X_test = scaler.transform(X_test)\n",
    "\n",
    "print(X_train[:5])\n",
    "print(X_test[:5])"
   ]
  },
  {
   "cell_type": "code",
   "execution_count": 36,
   "id": "d084bde5",
   "metadata": {},
   "outputs": [
    {
     "name": "stdout",
     "output_type": "stream",
     "text": [
      "Training samples: 210\n",
      "Testing samples: 64\n",
      "Features: 6\n",
      "Samples per feature: 35.0\n",
      "Training target stats: mean=9.9, std=7.1\n",
      "Testing target stats: mean=10.5, std=7.0\n"
     ]
    }
   ],
   "source": [
    "from helpers import print_diagnostics\n",
    "print_diagnostics(X_train, X_test, features, y_train, y_test)"
   ]
  },
  {
   "cell_type": "code",
   "execution_count": 38,
   "id": "b88262bc-0660-445d-a990-88714ae67780",
   "metadata": {},
   "outputs": [
    {
     "name": "stdout",
     "output_type": "stream",
     "text": [
      "Training RMSE: 5.375059537790496\n",
      "Training R^2: 0.43198488668524837\n",
      "Training MAE: 4.2279393499823845\n",
      "Testing RMSE: 5.83303452624775\n",
      "Testing R^2: 0.29715597907273106\n",
      "Testing MAE: 4.628119814930369\n"
     ]
    }
   ],
   "source": [
    "# Train and evaluate\n",
    "from sklearn.linear_model import LinearRegression\n",
    "model = LinearRegression().fit(X_train, y_train)\n",
    "\n",
    "train_preds = model.predict(X_train)\n",
    "preds = model.predict(X_test)\n",
    "\n",
    "from helpers import evaluate_model\n",
    "evaluate_model(y_train, train_preds, y_test, preds)"
   ]
  },
  {
   "cell_type": "code",
   "execution_count": 47,
   "id": "a12b984b",
   "metadata": {},
   "outputs": [
    {
     "name": "stdout",
     "output_type": "stream",
     "text": [
      "[ 3.86698765 10.06691121  8.73041598 14.66024457  6.66964346]\n",
      "328    15.094118\n",
      "276    10.388889\n",
      "301     9.833333\n",
      "286    14.854545\n",
      "287     7.000000\n",
      "Name: NextYearFantasyPtsPPR_PerGame, dtype: float64\n"
     ]
    }
   ],
   "source": [
    "print(preds[:5])\n",
    "print(y_test.head())"
   ]
  },
  {
   "cell_type": "code",
   "execution_count": 48,
   "id": "07190fca-fb48-4eb5-900c-6f56c2073866",
   "metadata": {},
   "outputs": [
    {
     "name": "stdout",
     "output_type": "stream",
     "text": [
      "Intercept: 9.924433047305948\n",
      "Feature Coefficients:\n",
      "PassAttPerGame: -0.5948\n",
      "PassYdsPerGame: 2.4072\n",
      "PassTDsPerGame: 2.6333\n",
      "PassIntPerGame: -1.1700\n",
      "RushYdsPerGame: 1.0579\n",
      "RushTDsPerGame: 0.6835\n"
     ]
    }
   ],
   "source": [
    "# Model coefficients\n",
    "print(\"Intercept:\", model.intercept_)\n",
    "print(\"Feature Coefficients:\")\n",
    "for feat, coef in zip(features, model.coef_):\n",
    "    print(f\"{feat}: {coef:.4f}\")"
   ]
  },
  {
   "cell_type": "code",
   "execution_count": 49,
   "id": "c306efdb",
   "metadata": {},
   "outputs": [],
   "source": [
    "from helpers import compute_rank_squared_error, build_results_df"
   ]
  },
  {
   "cell_type": "code",
   "execution_count": 50,
   "id": "3115966e",
   "metadata": {},
   "outputs": [
    {
     "name": "stdout",
     "output_type": "stream",
     "text": [
      "                       Player     Actual  Predicted  ActualRank  PredictedRank  RankError\n",
      "328             Aaron Rodgers  15.094118   3.866988          19             60         41\n",
      "276           Aidan O'Connell  10.388889  10.066911          35             36          1\n",
      "301               Andy Dalton   9.833333   8.730416          39             39          0\n",
      "286        Anthony Richardson  14.854545  14.660245          21             12         -9\n",
      "287              Bailey Zappe   7.000000   6.669643          44             51          7\n",
      "258            Baker Mayfield  21.517647  13.505068           4             17         13\n",
      "254               Brock Purdy  17.793333  15.473277           9              6         -3\n",
      "271               Bryce Young  13.928571   8.701596          24             40         16\n",
      "257               C.J. Stroud  12.964706  15.360128          27              7        -20\n",
      "300              Carson Wentz   1.566667  11.404984          53             27        -26\n",
      "313              Clayton Tune  -0.350000   4.010327          63             59         -4\n",
      "317               Cooper Rush   9.133333   3.811678          42             62         20\n",
      "251              Dak Prescott  14.562500  16.550077          22              3        -19\n",
      "292              Daniel Jones  13.530000   7.832981          25             47         22\n",
      "307               Davis Mills   2.400000   5.647810          50             53          3\n",
      "264                Derek Carr  15.090000  12.284874          20             25          5\n",
      "284            Deshaun Watson  10.957143  11.839254          33             26         -7\n",
      "270            Desmond Ridder   3.650000  10.204017          49             35        -14\n",
      "304  Dorian Thompson-Robinson   2.257143   4.232870          51             57          6\n",
      "296                 Drew Lock  10.012500   7.249709          37             50         13\n",
      "269        Gardner Minshew II   9.630000  10.204316          40             34         -6\n",
      "267                Geno Smith  15.647059  12.510829          15             23          8\n",
      "302           Jacoby Brissett   5.650000   9.490462          45             38         -7\n",
      "275             Jake Browning  -0.066667  12.884795          61             21        -40\n",
      "250               Jalen Hurts  21.006667  16.283876           5              4         -1\n",
      "310            Jameis Winston  10.925000   4.296278          34             56         22\n",
      "255                Jared Goff  19.088235  13.910215           7             16          9\n",
      "298           Jarrett Stidham   0.166667   8.686659          58             41        -17\n",
      "308              Jeff Driskel   0.000000  10.679987          59             30        -29\n",
      "291           Jimmy Garoppolo  19.900000   7.439232           6             49         43\n",
      "273                Joe Burrow  21.929412  12.342979           3             24         21\n",
      "281                Joe Flacco  12.375000  14.989738          29              9        -20\n",
      "253               Jordan Love  15.593333  15.325644          16              8         -8\n",
      "249                Josh Allen  22.294118  17.274194           2              1         -1\n",
      "268              Joshua Dobbs  15.400000  12.579013          17             22          5\n",
      "266             Justin Fields  11.910000  14.674557          32             11        -21\n",
      "265            Justin Herbert  16.788235  14.447879          12             13          1\n",
      "278             Kenny Pickett   5.020000   8.472735          46             43         -3\n",
      "272              Kirk Cousins  12.592857  15.996881          28              5        -23\n",
      "331                Kyle Allen   0.800000   3.783730          55             63          8\n",
      "329                Kyle Trask  -0.050000   3.855126          60             61          1\n",
      "274              Kyler Murray  17.482353  14.261838          11             14          3\n",
      "252             Lamar Jackson  25.317647  17.266912           1              2          1\n",
      "279                 Mac Jones   9.610000   8.072087          41             46          5\n",
      "318              Malik Willis   7.400000   4.939764          43             55         12\n",
      "309            Marcus Mariota  15.266667   6.385497          18             52         34\n",
      "295             Mason Rudolph  11.975000  10.417723          31             32          1\n",
      "263          Matthew Stafford  13.412500  12.930001          26             20         -6\n",
      "320                Mike White   1.100000   4.197300          54             58          4\n",
      "294         Mitchell Trubisky   1.700000   8.373322          52             44         -8\n",
      "289              Nick Mullens   0.325000   9.925729          57             37        -20\n",
      "256           Patrick Mahomes  17.687500  14.038232          10             15          5\n",
      "262            Russell Wilson  15.709091  14.744371          14             10         -4\n",
      "303               Sam Darnold  18.117647   5.361013           8             54         46\n",
      "261                Sam Howell  -0.400000  11.180807          64             28        -36\n",
      "290           Taylor Heinicke   0.775000  10.920675          56             29        -27\n",
      "311                 Tim Boyle   4.633333   3.243771          47             64         17\n",
      "282              Tommy DeVito   4.500000  10.252209          48             33        -15\n",
      "260           Trevor Lawrence  14.520000  13.231317          23             19         -4\n",
      "259            Tua Tagovailoa  16.509091  13.330076          13             18          5\n",
      "299             Tyler Huntley  12.140000   7.526329          30             48         18\n",
      "283              Tyrod Taylor  10.050000   8.322404          36             45          9\n",
      "293              Tyson Bagent  -0.075000   8.646736          62             42        -20\n",
      "280                Will Levis   9.991667  10.442821          38             31         -7\n",
      "2024 Rank Squared Error: 19780\n"
     ]
    }
   ],
   "source": [
    "test_players = final_df[final_df['Year'] == test_years[0]]['Player']\n",
    "\n",
    "results = build_results_df(y_test, preds, test_players)\n",
    "rank_squared_error = compute_rank_squared_error(results)\n",
    "\n",
    "print(results.to_string())\n",
    "print(\"2024 Rank Squared Error:\", rank_squared_error)\n",
    "# print(results.head())"
   ]
  },
  {
   "cell_type": "code",
   "execution_count": 36,
   "id": "27fc6330",
   "metadata": {},
   "outputs": [
    {
     "name": "stdout",
     "output_type": "stream",
     "text": [
      "Model saved as 'qb_model.joblib'\n"
     ]
    }
   ],
   "source": [
    "import joblib\n",
    "import os\n",
    "\n",
    "model_package = {\n",
    "    'model': model,\n",
    "    'scaler': scaler,\n",
    "    'features': features\n",
    "}\n",
    "\n",
    "os.makedirs('models', exist_ok=True)\n",
    "filepath = os.path.join('models', 'qb_model.joblib')\n",
    "\n",
    "joblib.dump(model_package, filepath)\n",
    "\n",
    "print(\"Model saved as 'qb_model.joblib'\")"
   ]
  },
  {
   "cell_type": "code",
   "execution_count": null,
   "id": "bb322461",
   "metadata": {},
   "outputs": [],
   "source": []
  }
 ],
 "metadata": {
  "kernelspec": {
   "display_name": "Python (fb)",
   "language": "python",
   "name": "fb"
  },
  "language_info": {
   "codemirror_mode": {
    "name": "ipython",
    "version": 3
   },
   "file_extension": ".py",
   "mimetype": "text/x-python",
   "name": "python",
   "nbconvert_exporter": "python",
   "pygments_lexer": "ipython3",
   "version": "3.13.2"
  }
 },
 "nbformat": 4,
 "nbformat_minor": 5
}
