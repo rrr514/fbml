{
 "cells": [
  {
   "cell_type": "code",
   "execution_count": 14,
   "id": "064ffb8a-74d7-4a81-bc4f-5b0415f2758e",
   "metadata": {},
   "outputs": [],
   "source": [
    "import pandas as pd"
   ]
  },
  {
   "cell_type": "code",
   "execution_count": 28,
   "id": "96775583",
   "metadata": {},
   "outputs": [],
   "source": [
    "years = [year for year in range(2020, 2025)]\n",
    "\n",
    "rookie_data = {}\n",
    "season_data = {}"
   ]
  },
  {
   "cell_type": "code",
   "execution_count": 36,
   "id": "4ee58485-299b-4e57-b526-9724f59fda09",
   "metadata": {},
   "outputs": [],
   "source": [
    "for year in years:\n",
    "    rookie_data[year] = pd.read_csv(f'data/{year}rookiestats_QB.csv')\n",
    "    season_data[year] = pd.read_csv(f'data/{year}playerstats_QB.csv')"
   ]
  },
  {
   "cell_type": "markdown",
   "id": "40d60c84-af88-42b9-b210-0f2be7f9aa7d",
   "metadata": {},
   "source": [
    "# Rookie QB Model:\n",
    "- Games Played\n",
    "- Completion Percentage\n",
    "- passing yds per game\n",
    "- passing tds per game\n",
    "- interceptions per game"
   ]
  },
  {
   "cell_type": "code",
   "execution_count": 37,
   "id": "dd4a8648-792f-482a-8b59-4c25b55502d6",
   "metadata": {},
   "outputs": [],
   "source": [
    "def compute_features(df):\n",
    "    df['GamesPlayed'] = df['Coll_games'].fillna(0)\n",
    "\n",
    "    df['CompletionPct'] = df['Coll_pass_cmp_pct'].fillna(0)\n",
    "    \n",
    "    df['PassAttPerGame'] = df['Coll_pass_att'] / df['Coll_games'].replace(0, pd.NA)\n",
    "    df['PassAttPerGame'] = df['PassAttPerGame'].fillna(0)\n",
    "\n",
    "    df['PassYdsPerGame'] = df['Coll_pass_yds_per_g'].fillna(0)\n",
    "\n",
    "    df['PassTDsPerGame'] = df['Coll_pass_td'] / df['Coll_games'].replace(0, pd.NA)\n",
    "    df['PassTDsPerGame'] = df['PassTDsPerGame'].fillna(0)\n",
    "\n",
    "    df['PassIntPerGame'] = df['Coll_pass_int'] / df['Coll_games'].replace(0, pd.NA)\n",
    "    df['PassIntPerGame'] = df['PassIntPerGame'].fillna(0)\n",
    "\n",
    "    df['RushYdsPerGame'] = df['Coll_rush_yds_per_g'].fillna(0)\n",
    "\n",
    "    df['RushTDsPerGame'] = df['Coll_rush_td'] / df['Coll_games'].replace(0, pd.NA)\n",
    "    df['RushTDsPerGame'] = df['RushTDsPerGame'].fillna(0)"
   ]
  },
  {
   "cell_type": "code",
   "execution_count": 38,
   "id": "5726348c-4cc6-4f0f-b589-2bb4a9f6fc1d",
   "metadata": {},
   "outputs": [],
   "source": [
    "for year in years:\n",
    "    compute_features(rookie_data[year])"
   ]
  },
  {
   "cell_type": "code",
   "execution_count": 40,
   "id": "8000378b-4334-4930-b399-f74a383fdec2",
   "metadata": {},
   "outputs": [],
   "source": [
    "from helpers import append_total_fantasy_points\n",
    "\n",
    "merged_data = {}\n",
    "# Append total fantasy points\n",
    "for year in years:\n",
    "    merged_data[year] = append_total_fantasy_points(rookie_data[year], season_data[year])"
   ]
  },
  {
   "cell_type": "code",
   "execution_count": 41,
   "id": "f006e4e1-4e68-49c9-879f-186840a8f67e",
   "metadata": {},
   "outputs": [],
   "source": [
    "# Keep only the features we want\n",
    "features = [\n",
    "    'GamesPlayed',\n",
    "    'CompletionPct',\n",
    "    'PassYdsPerGame',\n",
    "    'PassTDsPerGame',\n",
    "    'PassIntPerGame'\n",
    "]\n",
    "\n",
    "train_years = years[:-1]\n",
    "test_year = years[-1]\n",
    "\n",
    "df_train = pd.concat([merged_data[year] for year in train_years], ignore_index=True)\n",
    "df_test = merged_data[test_year]"
   ]
  },
  {
   "cell_type": "code",
   "execution_count": 42,
   "id": "1c864f71-5e27-41c9-a2f5-e479d62c762d",
   "metadata": {},
   "outputs": [
    {
     "name": "stdout",
     "output_type": "stream",
     "text": [
      "<class 'pandas.core.frame.DataFrame'>\n",
      "RangeIndex: 45 entries, 0 to 44\n",
      "Data columns (total 5 columns):\n",
      " #   Column          Non-Null Count  Dtype  \n",
      "---  ------          --------------  -----  \n",
      " 0   GamesPlayed     45 non-null     float64\n",
      " 1   CompletionPct   45 non-null     float64\n",
      " 2   PassYdsPerGame  45 non-null     float64\n",
      " 3   PassTDsPerGame  45 non-null     float64\n",
      " 4   PassIntPerGame  45 non-null     float64\n",
      "dtypes: float64(5)\n",
      "memory usage: 1.9 KB\n",
      "None\n",
      "<class 'pandas.core.frame.DataFrame'>\n",
      "RangeIndex: 11 entries, 0 to 10\n",
      "Data columns (total 5 columns):\n",
      " #   Column          Non-Null Count  Dtype  \n",
      "---  ------          --------------  -----  \n",
      " 0   GamesPlayed     11 non-null     float64\n",
      " 1   CompletionPct   11 non-null     float64\n",
      " 2   PassYdsPerGame  11 non-null     float64\n",
      " 3   PassTDsPerGame  11 non-null     float64\n",
      " 4   PassIntPerGame  11 non-null     float64\n",
      "dtypes: float64(5)\n",
      "memory usage: 572.0 bytes\n",
      "None\n"
     ]
    }
   ],
   "source": [
    "y_test = df_test['FantasyPtsPPR']\n",
    "y_train = df_train['FantasyPtsPPR']\n",
    "X_test = df_test[features]\n",
    "X_train = df_train[features]\n",
    "\n",
    "# print(X_train.head())\n",
    "# print(y_train.head())\n",
    "# print(X_test.head())\n",
    "# print(y_test.head())\n",
    "\n",
    "print(X_train.info())\n",
    "print(X_test.info())"
   ]
  },
  {
   "cell_type": "code",
   "execution_count": 43,
   "id": "72ba03d0-9e54-40b4-9ba4-5656425ce9d0",
   "metadata": {},
   "outputs": [
    {
     "name": "stdout",
     "output_type": "stream",
     "text": [
      "[[ 0.17837314  0.6062811   0.28485805  0.41140007 -1.26014918]\n",
      " [-0.33948437  0.65515722  0.2623929   1.32455774 -0.98443035]\n",
      " [ 0.60992107  0.13707036  0.47356527  0.63968948  0.03384942]\n",
      " [ 0.09206356 -0.1366359   0.27437431 -0.19279448  1.32652879]\n",
      " [ 1.64563609  0.25437304 -0.5807989  -0.40857825 -0.85641804]]\n",
      "[[ 0.00575397  0.42055185  0.96630081  1.14827247 -0.74224489]\n",
      " [ 1.5593265   0.3619005   0.35674652 -0.13649453 -0.82150559]\n",
      " [-0.59841312  0.22504737  0.88842163  0.55489627  0.09087309]\n",
      " [ 0.95515941  0.06864379  1.17298015  0.41140007  1.03176359]\n",
      " [ 0.26468273  0.48897841 -0.78298522 -0.70069552 -1.29806052]]\n"
     ]
    }
   ],
   "source": [
    "from sklearn.preprocessing import StandardScaler\n",
    "scaler = StandardScaler().fit(X_train)\n",
    "X_train = scaler.transform(X_train)\n",
    "X_test = scaler.transform(X_test)\n",
    "\n",
    "print(X_train[:5])\n",
    "print(X_test[:5])"
   ]
  },
  {
   "cell_type": "code",
   "execution_count": 44,
   "id": "c5fa8687",
   "metadata": {},
   "outputs": [
    {
     "name": "stdout",
     "output_type": "stream",
     "text": [
      "Training samples: 45\n",
      "Testing samples: 11\n",
      "Features: 5\n",
      "Samples per feature: 9.0\n",
      "Training target stats: mean=63.8, std=84.9\n",
      "Testing target stats: mean=112.3, std=138.4\n"
     ]
    }
   ],
   "source": [
    "from helpers import print_diagnostics\n",
    "print_diagnostics(X_train, X_test, features, y_train, y_test)"
   ]
  },
  {
   "cell_type": "code",
   "execution_count": 45,
   "id": "2d259622-cbe6-4dc9-8f79-1da18b7d4b63",
   "metadata": {},
   "outputs": [
    {
     "name": "stdout",
     "output_type": "stream",
     "text": [
      "Training RMSE: 74.60969513598808\n",
      "Training R^2: 0.21106228037664831\n",
      "Training MAE: 59.82606196104598\n",
      "Testing RMSE: 120.91647503892595\n",
      "Testing R^2: 0.1600981378567562\n",
      "Testing MAE: 92.74477439891133\n"
     ]
    }
   ],
   "source": [
    "from sklearn.linear_model import LinearRegression\n",
    "model = LinearRegression().fit(X_train, y_train)\n",
    "\n",
    "train_preds = model.predict(X_train)\n",
    "preds = model.predict(X_test)\n",
    "\n",
    "from helpers import evaluate_model\n",
    "evaluate_model(y_train, train_preds, y_test, preds)"
   ]
  },
  {
   "cell_type": "code",
   "execution_count": 46,
   "id": "d25a6dc1-d867-4a97-b56b-a302ede52232",
   "metadata": {},
   "outputs": [
    {
     "name": "stdout",
     "output_type": "stream",
     "text": [
      "[128.27631185  97.26876855  95.72876535  52.72001019  92.77699761]\n",
      "0    254.5\n",
      "1    355.8\n",
      "2    177.1\n",
      "3     44.1\n",
      "4      0.0\n",
      "Name: FantasyPtsPPR, dtype: float64\n"
     ]
    }
   ],
   "source": [
    "print(preds[:5])\n",
    "print(y_test.head())"
   ]
  },
  {
   "cell_type": "code",
   "execution_count": 47,
   "id": "c6c8b938-6a87-497c-ac1e-facb421a0e78",
   "metadata": {},
   "outputs": [
    {
     "name": "stdout",
     "output_type": "stream",
     "text": [
      "Intercept: 63.82000000000003\n",
      "Feature Coefficients:\n",
      "GamesPlayed: -8.5005\n",
      "CompletionPct: 11.4495\n",
      "PassYdsPerGame: 30.4628\n",
      "PassTDsPerGame: 1.2731\n",
      "PassIntPerGame: -38.7904\n"
     ]
    }
   ],
   "source": [
    "from helpers import print_model_coefficients\n",
    "print_model_coefficients(model, features)"
   ]
  },
  {
   "cell_type": "code",
   "execution_count": 48,
   "id": "ec8859f8-5b45-45b1-98aa-c9e11ab489d7",
   "metadata": {},
   "outputs": [
    {
     "name": "stdout",
     "output_type": "stream",
     "text": [
      "             Player  Actual   Predicted  ActualRank  PredictedRank  RankError\n",
      "0    Caleb Williams   254.5  128.276312           3              1         -2\n",
      "1    Jayden Daniels   355.8   97.268769           1              2          1\n",
      "2        Drake Maye   177.1   95.728765           4              3         -1\n",
      "3     Michael Penix    44.1   52.720010           6              8          2\n",
      "4     J.J. McCarthy     0.0   92.776998           8              4         -4\n",
      "5            Bo Nix   317.2   89.431398           2              5          3\n",
      "6   Spencer Rattler    67.3   38.585173           5             10          5\n",
      "7     Jordan Travis     0.0   62.485242           8              7         -1\n",
      "8        Joe Milton    19.2   72.961600           7              6         -1\n",
      "9       Devin Leary     0.0   34.408905           8             11          3\n",
      "10    Michael Pratt     0.0   45.530180           8              9          1\n",
      "2024 Rank Squared Error: 72\n"
     ]
    }
   ],
   "source": [
    "from helpers import compute_rank_squared_error, build_results_df\n",
    "results = build_results_df(y_test, preds, df_24_merged['Player'])\n",
    "rank_squared_error = compute_rank_squared_error(results)\n",
    "\n",
    "print(results.to_string())\n",
    "print(\"2024 Rank Squared Error:\", rank_squared_error)"
   ]
  },
  {
   "cell_type": "code",
   "execution_count": null,
   "id": "5dde0687-908a-4750-9688-968c01be0922",
   "metadata": {},
   "outputs": [],
   "source": []
  }
 ],
 "metadata": {
  "kernelspec": {
   "display_name": "Python (fb)",
   "language": "python",
   "name": "fb"
  },
  "language_info": {
   "codemirror_mode": {
    "name": "ipython",
    "version": 3
   },
   "file_extension": ".py",
   "mimetype": "text/x-python",
   "name": "python",
   "nbconvert_exporter": "python",
   "pygments_lexer": "ipython3",
   "version": "3.13.2"
  }
 },
 "nbformat": 4,
 "nbformat_minor": 5
}
