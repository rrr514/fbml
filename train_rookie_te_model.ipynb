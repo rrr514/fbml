{
 "cells": [
  {
   "cell_type": "code",
   "execution_count": 1,
   "id": "73534a3b",
   "metadata": {},
   "outputs": [],
   "source": [
    "import pandas as pd"
   ]
  },
  {
   "cell_type": "code",
   "execution_count": 2,
   "id": "a38700ae",
   "metadata": {},
   "outputs": [],
   "source": [
    "years = [year for year in range(2020, 2025)]\n",
    "\n",
    "rookie_data = {}\n",
    "season_data = {}"
   ]
  },
  {
   "cell_type": "code",
   "execution_count": 3,
   "id": "415b4fb8",
   "metadata": {},
   "outputs": [],
   "source": [
    "for year in years:\n",
    "    rookie_data[year] = pd.read_csv(f'data/{year}rookiestats_TE.csv')\n",
    "    season_data[year] = pd.read_csv(f'data/{year}playerstats_TE.csv')"
   ]
  },
  {
   "cell_type": "markdown",
   "id": "9d8378f6",
   "metadata": {},
   "source": [
    "# Rookie TE Model:\n",
    "- games played\n",
    "- recs per game\n",
    "- rec yards per game\n",
    "- rec tds per game\n"
   ]
  },
  {
   "cell_type": "code",
   "execution_count": 4,
   "id": "1af6c082",
   "metadata": {},
   "outputs": [],
   "source": [
    "from helpers import compute_rookie_te_features"
   ]
  },
  {
   "cell_type": "code",
   "execution_count": 5,
   "id": "5f64d061",
   "metadata": {},
   "outputs": [],
   "source": [
    "for year in years:\n",
    "    compute_rookie_te_features(rookie_data[year])"
   ]
  },
  {
   "cell_type": "code",
   "execution_count": 6,
   "id": "b400ad85",
   "metadata": {},
   "outputs": [],
   "source": [
    "from helpers import append_total_fantasy_points\n",
    "\n",
    "merged_data = {}\n",
    "# Append total fantasy points\n",
    "for year in years:\n",
    "    merged_data[year] = append_total_fantasy_points(rookie_data[year], season_data[year])"
   ]
  },
  {
   "cell_type": "code",
   "execution_count": 7,
   "id": "ce9e9bcd",
   "metadata": {},
   "outputs": [],
   "source": [
    "features = [\n",
    "    'GamesPlayed',\n",
    "    'RecsPerGame',\n",
    "    'RecYdsPerGame',\n",
    "    'RecTDsPerGame'\n",
    "]\n",
    "\n",
    "train_years = years[:-1]\n",
    "test_year = years[-1]\n",
    "\n",
    "df_train = pd.concat([merged_data[year] for year in train_years], ignore_index=True)\n",
    "df_test = merged_data[test_year]"
   ]
  },
  {
   "cell_type": "code",
   "execution_count": 8,
   "id": "54d2e963",
   "metadata": {},
   "outputs": [
    {
     "name": "stdout",
     "output_type": "stream",
     "text": [
      "<class 'pandas.core.frame.DataFrame'>\n",
      "RangeIndex: 53 entries, 0 to 52\n",
      "Data columns (total 4 columns):\n",
      " #   Column         Non-Null Count  Dtype  \n",
      "---  ------         --------------  -----  \n",
      " 0   GamesPlayed    53 non-null     float64\n",
      " 1   RecsPerGame    53 non-null     float64\n",
      " 2   RecYdsPerGame  53 non-null     float64\n",
      " 3   RecTDsPerGame  53 non-null     float64\n",
      "dtypes: float64(4)\n",
      "memory usage: 1.8 KB\n",
      "None\n",
      "<class 'pandas.core.frame.DataFrame'>\n",
      "RangeIndex: 12 entries, 0 to 11\n",
      "Data columns (total 4 columns):\n",
      " #   Column         Non-Null Count  Dtype  \n",
      "---  ------         --------------  -----  \n",
      " 0   GamesPlayed    12 non-null     float64\n",
      " 1   RecsPerGame    12 non-null     float64\n",
      " 2   RecYdsPerGame  12 non-null     float64\n",
      " 3   RecTDsPerGame  12 non-null     float64\n",
      "dtypes: float64(4)\n",
      "memory usage: 516.0 bytes\n",
      "None\n"
     ]
    }
   ],
   "source": [
    "y_test = df_test['FantasyPtsPPR']\n",
    "y_train = df_train['FantasyPtsPPR']\n",
    "X_test = df_test[features]\n",
    "X_train = df_train[features]\n",
    "\n",
    "# print(X_train.head())\n",
    "# print(y_train.head())\n",
    "# print(X_test.head())\n",
    "# print(y_test.head())\n",
    "\n",
    "print(X_train.info())\n",
    "print(X_test.info())"
   ]
  },
  {
   "cell_type": "code",
   "execution_count": 9,
   "id": "8dd48099",
   "metadata": {},
   "outputs": [],
   "source": [
    "from sklearn.preprocessing import StandardScaler\n",
    "scaler = StandardScaler().fit(X_train)\n",
    "X_train = scaler.transform(X_train)\n",
    "X_test = scaler.transform(X_test)"
   ]
  },
  {
   "cell_type": "code",
   "execution_count": 10,
   "id": "ea67acc0",
   "metadata": {},
   "outputs": [
    {
     "name": "stdout",
     "output_type": "stream",
     "text": [
      "Training samples: 53\n",
      "Testing samples: 12\n",
      "Features: 4\n",
      "Samples per feature: 13.2\n",
      "Training target stats: mean=41.4, std=50.2\n",
      "Testing target stats: mean=49.6, std=73.0\n"
     ]
    }
   ],
   "source": [
    "from helpers import print_diagnostics\n",
    "print_diagnostics(X_train, X_test, features, y_train, y_test)"
   ]
  },
  {
   "cell_type": "code",
   "execution_count": 11,
   "id": "5dcc7e3f",
   "metadata": {},
   "outputs": [
    {
     "name": "stdout",
     "output_type": "stream",
     "text": [
      "Training RMSE: 43.17917614541477\n",
      "Training R^2: 0.24636357056477742\n",
      "Training MAE: 32.548648511895315\n",
      "Testing RMSE: 61.26792318842506\n",
      "Testing R^2: 0.23078414573817674\n",
      "Testing MAE: 38.99092138463458\n"
     ]
    }
   ],
   "source": [
    "from sklearn.linear_model import LinearRegression\n",
    "model = LinearRegression().fit(X_train, y_train)\n",
    "\n",
    "train_preds = model.predict(X_train)\n",
    "preds = model.predict(X_test)\n",
    "\n",
    "from helpers import evaluate_model\n",
    "evaluate_model(y_train, train_preds, y_test, preds)"
   ]
  },
  {
   "cell_type": "code",
   "execution_count": 12,
   "id": "728bf2c9",
   "metadata": {},
   "outputs": [
    {
     "name": "stdout",
     "output_type": "stream",
     "text": [
      "Intercept: 41.37735849056603\n",
      "Feature Coefficients:\n",
      "GamesPlayed: -9.1611\n",
      "RecsPerGame: 13.8267\n",
      "RecYdsPerGame: 11.9635\n",
      "RecTDsPerGame: -7.3717\n"
     ]
    }
   ],
   "source": [
    "from helpers import print_model_coefficients\n",
    "print_model_coefficients(model, features)"
   ]
  },
  {
   "cell_type": "code",
   "execution_count": 13,
   "id": "2f25c37d",
   "metadata": {},
   "outputs": [
    {
     "name": "stdout",
     "output_type": "stream",
     "text": [
      "               Player  Actual  Predicted  ActualRank  PredictedRank  RankError\n",
      "0        Brock Bowers   262.7  92.949462           1              1          0\n",
      "1         Ben Sinnott    13.8  50.844292           7              4         -3\n",
      "2          Tip Reiman     9.7  14.232226           9             10          1\n",
      "3   Ja'Tavion Sanders    73.2  62.021318           3              3          0\n",
      "4        Theo Johnson    68.1  29.354718           4              8          4\n",
      "5           Erick All    35.8  43.193624           5              6          1\n",
      "6           AJ Barner    78.5  23.925063           2              9          7\n",
      "7         Cade Stover    34.3  29.532018           6              7          1\n",
      "8         Jared Wiley     1.7   4.982863          11             12          1\n",
      "9    Tanner McLachlan     0.0  90.828651          12              2        -10\n",
      "10        Jaheim Bell     4.0  47.462693          10              5         -5\n",
      "11         Devin Culp    13.8  11.470712           7             11          4\n",
      "2024 Rank Squared Error: 219\n"
     ]
    }
   ],
   "source": [
    "from helpers import compute_rank_squared_error, build_results_df\n",
    "results = build_results_df(y_test, preds, df_test['Player'])\n",
    "rank_squared_error = compute_rank_squared_error(results)\n",
    "\n",
    "print(results.to_string())\n",
    "print(\"2024 Rank Squared Error:\", rank_squared_error)\n"
   ]
  },
  {
   "cell_type": "code",
   "execution_count": 14,
   "id": "e06a4706",
   "metadata": {},
   "outputs": [
    {
     "name": "stdout",
     "output_type": "stream",
     "text": [
      "Model saved as 'rookie_te_model.joblib'\n"
     ]
    }
   ],
   "source": [
    "import joblib\n",
    "import os\n",
    "\n",
    "model_package = {\n",
    "    'model': model,\n",
    "    'scaler': scaler,\n",
    "    'features': features\n",
    "}\n",
    "\n",
    "os.makedirs('models', exist_ok=True)\n",
    "filepath = os.path.join('models', 'rookie_te_model.joblib')\n",
    "\n",
    "joblib.dump(model_package, filepath)\n",
    "\n",
    "print(\"Model saved as 'rookie_te_model.joblib'\")"
   ]
  }
 ],
 "metadata": {
  "kernelspec": {
   "display_name": "Python (fb)",
   "language": "python",
   "name": "fb"
  },
  "language_info": {
   "codemirror_mode": {
    "name": "ipython",
    "version": 3
   },
   "file_extension": ".py",
   "mimetype": "text/x-python",
   "name": "python",
   "nbconvert_exporter": "python",
   "pygments_lexer": "ipython3",
   "version": "3.13.2"
  }
 },
 "nbformat": 4,
 "nbformat_minor": 5
}
