{
 "cells": [
  {
   "cell_type": "code",
   "execution_count": 1,
   "id": "73534a3b",
   "metadata": {},
   "outputs": [],
   "source": [
    "import pandas as pd"
   ]
  },
  {
   "cell_type": "code",
   "execution_count": 2,
   "id": "415b4fb8",
   "metadata": {},
   "outputs": [],
   "source": [
    "df_22 = pd.read_csv('2022rookiestats_TE.csv')\n",
    "df_23 = pd.read_csv('2023rookiestats_TE.csv')\n",
    "df_24 = pd.read_csv('2024rookiestats_TE.csv')\n",
    "df_22_season = pd.read_csv('2022playerstats_TE.csv')\n",
    "df_23_season = pd.read_csv('2023playerstats_TE.csv')\n",
    "df_24_season = pd.read_csv('2024playerstats_TE.csv')"
   ]
  },
  {
   "cell_type": "markdown",
   "id": "9d8378f6",
   "metadata": {},
   "source": [
    "# Rookie TE Model:\n",
    "- games played\n",
    "- recs per game\n",
    "- rec yards per game\n",
    "- rec tds per game\n"
   ]
  },
  {
   "cell_type": "code",
   "execution_count": 3,
   "id": "1af6c082",
   "metadata": {},
   "outputs": [],
   "source": [
    "def compute_features(df):\n",
    "    df['GamesPlayed'] = df['Coll_games'].fillna(0)\n",
    "\n",
    "    df['RecsPerGame'] = df['Coll_rec'] / df['Coll_games'].replace(0, pd.NA)\n",
    "    df['RecsPerGame'] = df['RecsPerGame'].fillna(0)\n",
    "\n",
    "    df['RecYdsPerGame'] = df['Coll_rec_yds_per_g'].fillna(0)\n",
    "\n",
    "    df['RecTDsPerGame'] = df['Coll_rec_td'] / df['Coll_games'].replace(0, pd.NA)\n",
    "    df['RecTDsPerGame'] = df['RecTDsPerGame'].fillna(0)"
   ]
  },
  {
   "cell_type": "code",
   "execution_count": 4,
   "id": "5f64d061",
   "metadata": {},
   "outputs": [],
   "source": [
    "compute_features(df_22)\n",
    "compute_features(df_23)\n",
    "compute_features(df_24)"
   ]
  },
  {
   "cell_type": "code",
   "execution_count": 5,
   "id": "b400ad85",
   "metadata": {},
   "outputs": [],
   "source": [
    "from helpers import append_total_fantasy_points\n",
    "\n",
    "df_22_merged = append_total_fantasy_points(df_22, df_22_season)\n",
    "df_23_merged = append_total_fantasy_points(df_23, df_23_season)\n",
    "df_24_merged = append_total_fantasy_points(df_24, df_24_season)"
   ]
  },
  {
   "cell_type": "code",
   "execution_count": 6,
   "id": "ce9e9bcd",
   "metadata": {},
   "outputs": [],
   "source": [
    "features = [\n",
    "    'GamesPlayed',\n",
    "    'RecsPerGame',\n",
    "    'RecYdsPerGame',\n",
    "    'RecTDsPerGame'\n",
    "]\n",
    "\n",
    "df_22_23_merged = pd.concat([df_22_merged, df_23_merged], ignore_index=True)"
   ]
  },
  {
   "cell_type": "code",
   "execution_count": 7,
   "id": "54d2e963",
   "metadata": {},
   "outputs": [],
   "source": [
    "y_test = df_24_merged['FantasyPtsPPR']\n",
    "y_train = df_22_23_merged['FantasyPtsPPR']\n",
    "X_test = df_24_merged[features]\n",
    "X_train = df_22_23_merged[features]"
   ]
  },
  {
   "cell_type": "code",
   "execution_count": 8,
   "id": "8dd48099",
   "metadata": {},
   "outputs": [],
   "source": [
    "from sklearn.preprocessing import StandardScaler\n",
    "scaler = StandardScaler().fit(X_train)\n",
    "X_train = scaler.transform(X_train)\n",
    "X_test = scaler.transform(X_test)"
   ]
  },
  {
   "cell_type": "code",
   "execution_count": 9,
   "id": "ea67acc0",
   "metadata": {},
   "outputs": [
    {
     "name": "stdout",
     "output_type": "stream",
     "text": [
      "Training samples: 32\n",
      "Testing samples: 12\n",
      "Features: 4\n",
      "Samples per feature: 8.0\n",
      "Training target stats: mean=45.6, std=51.7\n",
      "Testing target stats: mean=49.6, std=73.0\n"
     ]
    }
   ],
   "source": [
    "# Diagnostics\n",
    "print(f\"Training samples: {len(X_train)}\")\n",
    "print(f\"Testing samples: {len(X_test)}\")\n",
    "print(f\"Features: {len(features)}\")\n",
    "print(f\"Samples per feature: {len(X_train) / len(features):.1f}\")\n",
    "print(f\"Training target stats: mean={y_train.mean():.1f}, std={y_train.std():.1f}\")\n",
    "print(f\"Testing target stats: mean={y_test.mean():.1f}, std={y_test.std():.1f}\")"
   ]
  },
  {
   "cell_type": "code",
   "execution_count": 10,
   "id": "5dcc7e3f",
   "metadata": {},
   "outputs": [
    {
     "name": "stdout",
     "output_type": "stream",
     "text": [
      "Training RMSE: 42.490583211710224\n",
      "Training R^2: 0.302014915794133\n",
      "Training MAE: 31.253446088486236\n",
      "Testing RMSE: 62.10295463818111\n",
      "Testing R^2: 0.20967370035905586\n",
      "Testing MAE: 43.08028447685408\n"
     ]
    }
   ],
   "source": [
    "from sklearn.linear_model import LinearRegression\n",
    "model = LinearRegression().fit(X_train, y_train)\n",
    "\n",
    "train_preds = model.predict(X_train)\n",
    "preds = model.predict(X_test)\n",
    "\n",
    "from helpers import evaluate_model\n",
    "evaluate_model(y_train, train_preds, y_test, preds)"
   ]
  },
  {
   "cell_type": "code",
   "execution_count": 11,
   "id": "728bf2c9",
   "metadata": {},
   "outputs": [
    {
     "name": "stdout",
     "output_type": "stream",
     "text": [
      "Intercept: 45.625\n",
      "Feature Coefficients:\n",
      "GamesPlayed: -1.2248\n",
      "RecsPerGame: 5.7826\n",
      "RecYdsPerGame: 31.9093\n",
      "RecTDsPerGame: -20.7094\n"
     ]
    }
   ],
   "source": [
    "from helpers import print_model_coefficients\n",
    "print_model_coefficients(model, features)"
   ]
  },
  {
   "cell_type": "code",
   "execution_count": 12,
   "id": "2f25c37d",
   "metadata": {},
   "outputs": [
    {
     "name": "stdout",
     "output_type": "stream",
     "text": [
      "               Player  Actual  Predicted  ActualRank  PredictedRank  RankError\n",
      "0        Brock Bowers   262.7  94.323243           1              1          0\n",
      "1         Ben Sinnott    13.8  55.506248           7              5         -2\n",
      "2          Tip Reiman     9.7  18.972874           9             11          2\n",
      "3   Ja'Tavion Sanders    73.2  77.828196           3              3          0\n",
      "4        Theo Johnson    68.1  29.562707           4             10          6\n",
      "5           Erick All    35.8  53.203297           5              6          1\n",
      "6           AJ Barner    78.5  32.071854           2              9          7\n",
      "7         Cade Stover    34.3  40.724258           6              7          1\n",
      "8         Jared Wiley     1.7  18.338952          11             12          1\n",
      "9    Tanner McLachlan     0.0  90.195412          12              2        -10\n",
      "10        Jaheim Bell     4.0  61.320035          10              4         -6\n",
      "11         Devin Culp    13.8  33.831944           7              8          1\n",
      "2024 Rank Squared Error: 233\n"
     ]
    }
   ],
   "source": [
    "from helpers import compute_rank_squared_error, build_results_df\n",
    "results = build_results_df(y_test, preds, df_24_merged['Player'])\n",
    "rank_squared_error = compute_rank_squared_error(results)\n",
    "\n",
    "print(results.to_string())\n",
    "print(\"2024 Rank Squared Error:\", rank_squared_error)\n"
   ]
  },
  {
   "cell_type": "code",
   "execution_count": null,
   "id": "e06a4706",
   "metadata": {},
   "outputs": [],
   "source": []
  }
 ],
 "metadata": {
  "kernelspec": {
   "display_name": "Python (fb)",
   "language": "python",
   "name": "fb"
  },
  "language_info": {
   "codemirror_mode": {
    "name": "ipython",
    "version": 3
   },
   "file_extension": ".py",
   "mimetype": "text/x-python",
   "name": "python",
   "nbconvert_exporter": "python",
   "pygments_lexer": "ipython3",
   "version": "3.13.2"
  }
 },
 "nbformat": 4,
 "nbformat_minor": 5
}
