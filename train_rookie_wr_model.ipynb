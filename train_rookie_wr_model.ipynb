{
 "cells": [
  {
   "cell_type": "code",
   "execution_count": 14,
   "id": "8e3b7739",
   "metadata": {},
   "outputs": [],
   "source": [
    "import pandas as pd"
   ]
  },
  {
   "cell_type": "code",
   "execution_count": 15,
   "id": "66ad61da",
   "metadata": {},
   "outputs": [],
   "source": [
    "years = [year for year in range(2020, 2025)]\n",
    "\n",
    "rookie_data = {}\n",
    "season_data = {}"
   ]
  },
  {
   "cell_type": "code",
   "execution_count": 16,
   "id": "cbc670d1",
   "metadata": {},
   "outputs": [],
   "source": [
    "for year in years:\n",
    "    rookie_data[year] = pd.read_csv(f'data/{year}rookiestats_WR.csv')\n",
    "    season_data[year] = pd.read_csv(f'data/{year}playerstats_WR.csv')"
   ]
  },
  {
   "cell_type": "markdown",
   "id": "5c39340d",
   "metadata": {},
   "source": [
    "# Rookie WR Model:\n",
    "- games played\n",
    "- recs per game\n",
    "- rec yards per game\n",
    "- rec tds per game"
   ]
  },
  {
   "cell_type": "code",
   "execution_count": 17,
   "id": "be442dee",
   "metadata": {},
   "outputs": [],
   "source": [
    "def compute_features(df):\n",
    "    df['GamesPlayed'] = df['Coll_games'].fillna(0)\n",
    "\n",
    "    df['RecsPerGame'] = df['Coll_rec'] / df['Coll_games'].replace(0, pd.NA)\n",
    "    df['RecsPerGame'] = df['RecsPerGame'].fillna(0)\n",
    "\n",
    "    df['RecYdsPerGame'] = df['Coll_rec_yds_per_g'].fillna(0)\n",
    "\n",
    "    df['RecTDsPerGame'] = df['Coll_rec_td'] / df['Coll_games'].replace(0, pd.NA)\n",
    "    df['RecTDsPerGame'] = df['RecTDsPerGame'].fillna(0)"
   ]
  },
  {
   "cell_type": "code",
   "execution_count": 18,
   "id": "d9443371",
   "metadata": {},
   "outputs": [],
   "source": [
    "for year in years:\n",
    "    compute_features(rookie_data[year])"
   ]
  },
  {
   "cell_type": "code",
   "execution_count": 19,
   "id": "66762ec4",
   "metadata": {},
   "outputs": [],
   "source": [
    "from helpers import append_total_fantasy_points\n",
    "\n",
    "merged_data = {}\n",
    "# Append total fantasy points\n",
    "for year in years:\n",
    "    merged_data[year] = append_total_fantasy_points(rookie_data[year], season_data[year])"
   ]
  },
  {
   "cell_type": "code",
   "execution_count": 20,
   "id": "f924e4ac",
   "metadata": {},
   "outputs": [],
   "source": [
    "features = [\n",
    "    'GamesPlayed',\n",
    "    'RecsPerGame',\n",
    "    'RecYdsPerGame',\n",
    "    'RecTDsPerGame'\n",
    "]\n",
    "\n",
    "train_years = years[:-1]\n",
    "test_year = years[-1]\n",
    "\n",
    "df_train = pd.concat([merged_data[year] for year in train_years], ignore_index=True)\n",
    "df_test = merged_data[test_year]"
   ]
  },
  {
   "cell_type": "code",
   "execution_count": 21,
   "id": "a77008c4",
   "metadata": {},
   "outputs": [],
   "source": [
    "y_test = df_test['FantasyPtsPPR']\n",
    "y_train = df_train['FantasyPtsPPR']\n",
    "X_test = df_test[features]\n",
    "X_train = df_train[features]"
   ]
  },
  {
   "cell_type": "code",
   "execution_count": 22,
   "id": "5024b020",
   "metadata": {},
   "outputs": [],
   "source": [
    "from sklearn.preprocessing import StandardScaler\n",
    "scaler = StandardScaler().fit(X_train)\n",
    "X_train = scaler.transform(X_train)\n",
    "X_test = scaler.transform(X_test)"
   ]
  },
  {
   "cell_type": "code",
   "execution_count": 23,
   "id": "36072faa",
   "metadata": {},
   "outputs": [
    {
     "name": "stdout",
     "output_type": "stream",
     "text": [
      "Training samples: 124\n",
      "Testing samples: 34\n",
      "Features: 4\n",
      "Samples per feature: 31.0\n",
      "Training target stats: mean=71.0, std=76.8\n",
      "Testing target stats: mean=67.8, std=84.5\n"
     ]
    }
   ],
   "source": [
    "from helpers import print_diagnostics\n",
    "print_diagnostics(X_train, X_test, features, y_train, y_test)"
   ]
  },
  {
   "cell_type": "code",
   "execution_count": 24,
   "id": "644d4223",
   "metadata": {},
   "outputs": [
    {
     "name": "stdout",
     "output_type": "stream",
     "text": [
      "Training RMSE: 69.10185912148366\n",
      "Training R^2: 0.18392930813930541\n",
      "Training MAE: 54.4888707854187\n",
      "Testing RMSE: 76.46479799175049\n",
      "Testing R^2: 0.15666904986598496\n",
      "Testing MAE: 62.110760125143344\n"
     ]
    }
   ],
   "source": [
    "from sklearn.linear_model import LinearRegression\n",
    "model = LinearRegression().fit(X_train, y_train)\n",
    "\n",
    "train_preds = model.predict(X_train)\n",
    "preds = model.predict(X_test)\n",
    "\n",
    "from helpers import evaluate_model\n",
    "evaluate_model(y_train, train_preds, y_test, preds)"
   ]
  },
  {
   "cell_type": "code",
   "execution_count": 25,
   "id": "b0b59d52",
   "metadata": {},
   "outputs": [
    {
     "name": "stdout",
     "output_type": "stream",
     "text": [
      "Intercept: 70.97016129032258\n",
      "Feature Coefficients:\n",
      "GamesPlayed: 0.3553\n",
      "RecsPerGame: -16.8155\n",
      "RecYdsPerGame: 24.0029\n",
      "RecTDsPerGame: 23.6798\n"
     ]
    }
   ],
   "source": [
    "from helpers import print_model_coefficients\n",
    "print_model_coefficients(model, features)"
   ]
  },
  {
   "cell_type": "code",
   "execution_count": 26,
   "id": "3cb23cc5",
   "metadata": {},
   "outputs": [
    {
     "name": "stdout",
     "output_type": "stream",
     "text": [
      "                 Player  Actual   Predicted  ActualRank  PredictedRank  RankError\n",
      "0   Marvin Harrison Jr.   196.5  130.598237           4              1         -3\n",
      "1          Malik Nabers   273.6  100.158932           2              5          3\n",
      "2           Rome Odunze   144.9  105.228020           6              3         -3\n",
      "3          Brian Thomas   284.0   91.925990           1              8          7\n",
      "4         Xavier Worthy   187.2  102.562560           5              4         -1\n",
      "5        Ricky Pearsall    93.5   43.237703          11             25         14\n",
      "6        Xavier Legette   125.1   32.844319           8             30         22\n",
      "7          Keon Coleman   111.5   74.919101           9             10          1\n",
      "8         Ladd McConkey   240.9   52.851276           3             22         19\n",
      "9          Ja'Lynn Polk    32.7   72.075302          17             14         -3\n",
      "10      Adonai Mitchell    53.8   72.719264          14             13         -1\n",
      "11       Malachi Corley     5.2   79.408523          24              9        -15\n",
      "12      Jermaine Burton    14.7   73.818525          21             11        -10\n",
      "13         Roman Wilson     0.0   63.293332          29             17        -12\n",
      "14       Jalen McMillan   135.4   65.573447           7             16          9\n",
      "15       Luke McCaffrey    34.8   57.949202          16             19          3\n",
      "16        Troy Franklin    67.1   99.078205          12              6         -6\n",
      "17          Javon Baker     2.2   52.778717          28             23         -5\n",
      "18      Devontez Walker     9.1  109.063786          23              2        -21\n",
      "19         Jacob Cowing    10.7   94.817801          22              7        -15\n",
      "20        Anthony Gould     3.3   25.376248          26             32          6\n",
      "21         Ainias Smith    17.7   55.465466          19             20          1\n",
      "22        Jamari Thrash     5.2   62.943801          24             18         -6\n",
      "23            Bub Means    26.8   40.676808          18             27          9\n",
      "24     Jha'Quan Jackson    -2.7   44.058144          34             24        -10\n",
      "25     Malik Washington    54.8   33.687387          13             29         16\n",
      "26        Johnny Wilson    14.8   54.504766          20             21          1\n",
      "27     Casey Washington     2.4    7.080501          27             34          7\n",
      "28       Tejhaun Palmer     0.0   41.355187          29             26         -3\n",
      "29   Jordan Whittington    52.5   18.098241          15             33         18\n",
      "30         Brenden Rice     0.0   73.551397          29             12        -17\n",
      "31        Devaughn Vele   106.5   27.853949          10             31         21\n",
      "32      Tahj Washington     0.0   68.539098          29             15        -14\n",
      "33    Cornelius Johnson     0.0   34.150933          29             28         -1\n",
      "2024 Rank Squared Error: 4235\n"
     ]
    }
   ],
   "source": [
    "from helpers import compute_rank_squared_error, build_results_df\n",
    "results = build_results_df(y_test, preds, df_test['Player'])\n",
    "rank_squared_error = compute_rank_squared_error(results)\n",
    "\n",
    "print(results.to_string())\n",
    "print(\"2024 Rank Squared Error:\", rank_squared_error)"
   ]
  },
  {
   "cell_type": "code",
   "execution_count": null,
   "id": "15b3c258",
   "metadata": {},
   "outputs": [
    {
     "name": "stdout",
     "output_type": "stream",
     "text": [
      "Model saved as 'rookie_wr_model.joblib'\n"
     ]
    }
   ],
   "source": [
    "import joblib\n",
    "import os\n",
    "\n",
    "model_package = {\n",
    "    'model': model,\n",
    "    'scaler': scaler,\n",
    "    'features': features\n",
    "}\n",
    "\n",
    "os.makedirs('models', exist_ok=True)\n",
    "filepath = os.path.join('models', 'rookie_wr_model.joblib')\n",
    "\n",
    "joblib.dump(model_package, filepath)\n",
    "\n",
    "print(\"Model saved as 'rookie_wr_model.joblib'\")"
   ]
  }
 ],
 "metadata": {
  "kernelspec": {
   "display_name": "Python (fb)",
   "language": "python",
   "name": "fb"
  },
  "language_info": {
   "codemirror_mode": {
    "name": "ipython",
    "version": 3
   },
   "file_extension": ".py",
   "mimetype": "text/x-python",
   "name": "python",
   "nbconvert_exporter": "python",
   "pygments_lexer": "ipython3",
   "version": "3.13.2"
  }
 },
 "nbformat": 4,
 "nbformat_minor": 5
}
