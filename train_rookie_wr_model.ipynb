{
 "cells": [
  {
   "cell_type": "code",
   "execution_count": 1,
   "id": "8e3b7739",
   "metadata": {},
   "outputs": [],
   "source": [
    "import pandas as pd"
   ]
  },
  {
   "cell_type": "code",
   "execution_count": 2,
   "id": "66ad61da",
   "metadata": {},
   "outputs": [],
   "source": [
    "df_22 = pd.read_csv('2022rookiestats_WR.csv')\n",
    "df_23 = pd.read_csv('2023rookiestats_WR.csv')\n",
    "df_24 = pd.read_csv('2024rookiestats_WR.csv')\n",
    "df_22_season = pd.read_csv('2022playerstats_WR.csv')\n",
    "df_23_season = pd.read_csv('2023playerstats_WR.csv')\n",
    "df_24_season = pd.read_csv('2024playerstats_WR.csv')"
   ]
  },
  {
   "cell_type": "markdown",
   "id": "5c39340d",
   "metadata": {},
   "source": [
    "# Rookie WR Model:\n",
    "- games played\n",
    "- recs per game\n",
    "- rec yards per game\n",
    "- rec tds per game"
   ]
  },
  {
   "cell_type": "code",
   "execution_count": 3,
   "id": "be442dee",
   "metadata": {},
   "outputs": [],
   "source": [
    "def compute_features(df):\n",
    "    df['GamesPlayed'] = df['Coll_games'].fillna(0)\n",
    "\n",
    "    df['RecsPerGame'] = df['Coll_rec'] / df['Coll_games'].replace(0, pd.NA)\n",
    "    df['RecsPerGame'] = df['RecsPerGame'].fillna(0)\n",
    "\n",
    "    df['RecYdsPerGame'] = df['Coll_rec_yds_per_g'].fillna(0)\n",
    "\n",
    "    df['RecTDsPerGame'] = df['Coll_rec_td'] / df['Coll_games'].replace(0, pd.NA)\n",
    "    df['RecTDsPerGame'] = df['RecTDsPerGame'].fillna(0)"
   ]
  },
  {
   "cell_type": "code",
   "execution_count": 4,
   "id": "d9443371",
   "metadata": {},
   "outputs": [],
   "source": [
    "compute_features(df_22)\n",
    "compute_features(df_23)\n",
    "compute_features(df_24)"
   ]
  },
  {
   "cell_type": "code",
   "execution_count": 5,
   "id": "66762ec4",
   "metadata": {},
   "outputs": [],
   "source": [
    "from helpers import append_total_fantasy_points\n",
    "\n",
    "df_22_merged = append_total_fantasy_points(df_22, df_22_season)\n",
    "df_23_merged = append_total_fantasy_points(df_23, df_23_season)\n",
    "df_24_merged = append_total_fantasy_points(df_24, df_24_season)"
   ]
  },
  {
   "cell_type": "code",
   "execution_count": 6,
   "id": "f924e4ac",
   "metadata": {},
   "outputs": [],
   "source": [
    "features = [\n",
    "    'GamesPlayed',\n",
    "    'RecsPerGame',\n",
    "    'RecYdsPerGame',\n",
    "    'RecTDsPerGame'\n",
    "]\n",
    "\n",
    "df_22_23_merged = pd.concat([df_22_merged, df_23_merged], ignore_index=True)"
   ]
  },
  {
   "cell_type": "code",
   "execution_count": 7,
   "id": "a77008c4",
   "metadata": {},
   "outputs": [],
   "source": [
    "y_test = df_24_merged['FantasyPtsPPR']\n",
    "y_train = df_22_23_merged['FantasyPtsPPR']\n",
    "X_test = df_24_merged[features]\n",
    "X_train = df_22_23_merged[features]"
   ]
  },
  {
   "cell_type": "code",
   "execution_count": 8,
   "id": "5024b020",
   "metadata": {},
   "outputs": [],
   "source": [
    "from sklearn.preprocessing import StandardScaler\n",
    "scaler = StandardScaler().fit(X_train)\n",
    "X_train = scaler.transform(X_train)\n",
    "X_test = scaler.transform(X_test)"
   ]
  },
  {
   "cell_type": "code",
   "execution_count": 9,
   "id": "36072faa",
   "metadata": {},
   "outputs": [
    {
     "name": "stdout",
     "output_type": "stream",
     "text": [
      "Training samples: 56\n",
      "Testing samples: 34\n",
      "Features: 4\n",
      "Samples per feature: 14.0\n",
      "Training target stats: mean=77.2, std=75.5\n",
      "Testing target stats: mean=67.8, std=84.5\n"
     ]
    }
   ],
   "source": [
    "from helpers import print_diagnostics\n",
    "print_diagnostics(X_train, X_test, features, y_train, y_test)"
   ]
  },
  {
   "cell_type": "code",
   "execution_count": 10,
   "id": "644d4223",
   "metadata": {},
   "outputs": [
    {
     "name": "stdout",
     "output_type": "stream",
     "text": [
      "Training RMSE: 65.76967497544113\n",
      "Training R^2: 0.22647069134929754\n",
      "Training MAE: 52.97045785559616\n",
      "Testing RMSE: 77.92355677630422\n",
      "Testing R^2: 0.12418479033012098\n",
      "Testing MAE: 65.23853117815518\n"
     ]
    }
   ],
   "source": [
    "from sklearn.linear_model import LinearRegression\n",
    "model = LinearRegression().fit(X_train, y_train)\n",
    "\n",
    "train_preds = model.predict(X_train)\n",
    "preds = model.predict(X_test)\n",
    "\n",
    "from helpers import evaluate_model\n",
    "evaluate_model(y_train, train_preds, y_test, preds)"
   ]
  },
  {
   "cell_type": "code",
   "execution_count": 11,
   "id": "b0b59d52",
   "metadata": {},
   "outputs": [
    {
     "name": "stdout",
     "output_type": "stream",
     "text": [
      "Intercept: 77.15892857142856\n",
      "Feature Coefficients:\n",
      "GamesPlayed: 6.0706\n",
      "RecsPerGame: -2.1542\n",
      "RecYdsPerGame: -5.4151\n",
      "RecTDsPerGame: 41.4825\n"
     ]
    }
   ],
   "source": [
    "from helpers import print_model_coefficients\n",
    "print_model_coefficients(model, features)"
   ]
  },
  {
   "cell_type": "code",
   "execution_count": 12,
   "id": "3cb23cc5",
   "metadata": {},
   "outputs": [
    {
     "name": "stdout",
     "output_type": "stream",
     "text": [
      "                 Player  Actual   Predicted  ActualRank  PredictedRank  RankError\n",
      "0   Marvin Harrison Jr.   196.5  155.162469           4              1         -3\n",
      "1          Malik Nabers   273.6   93.232136           2             12         10\n",
      "2           Rome Odunze   144.9  103.367135           6              9          3\n",
      "3          Brian Thomas   284.0  121.327668           1              3          2\n",
      "4         Xavier Worthy   187.2  121.083457           5              4         -1\n",
      "5        Ricky Pearsall    93.5   50.582790          11             25         14\n",
      "6        Xavier Legette   125.1   47.965136           8             26         18\n",
      "7          Keon Coleman   111.5  104.698746           9              8         -1\n",
      "8         Ladd McConkey   240.9   64.480213           3             22         19\n",
      "9          Ja'Lynn Polk    32.7   79.298773          17             16         -1\n",
      "10      Adonai Mitchell    53.8   97.782618          14             10         -4\n",
      "11       Malachi Corley     5.2  112.435837          24              6        -18\n",
      "12      Jermaine Burton    14.7   87.790475          21             14         -7\n",
      "13         Roman Wilson     0.0   87.868405          29             13        -16\n",
      "14       Jalen McMillan   135.4   77.645479           7             17         10\n",
      "15       Luke McCaffrey    34.8   84.472266          16             15         -1\n",
      "16        Troy Franklin    67.1  116.517704          12              5         -7\n",
      "17          Javon Baker     2.2   52.485592          28             23         -5\n",
      "18      Devontez Walker     9.1  121.910509          23              2        -21\n",
      "19         Jacob Cowing    10.7  107.813814          22              7        -15\n",
      "20        Anthony Gould     3.3   23.396995          26             32          6\n",
      "21         Ainias Smith    17.7   73.045846          19             19          0\n",
      "22        Jamari Thrash     5.2   68.501527          24             20         -4\n",
      "23            Bub Means    26.8   42.829818          18             27          9\n",
      "24     Jha'Quan Jackson    -2.7   66.999171          34             21        -13\n",
      "25     Malik Washington    54.8   38.745346          13             29         16\n",
      "26        Johnny Wilson    14.8   33.680613          20             31         11\n",
      "27     Casey Washington     2.4   16.515170          27             33          6\n",
      "28       Tejhaun Palmer     0.0   40.695442          29             28         -1\n",
      "29   Jordan Whittington    52.5   13.198558          15             34         19\n",
      "30         Brenden Rice     0.0   96.058344          29             11        -18\n",
      "31        Devaughn Vele   106.5   35.027159          10             30         20\n",
      "32      Tahj Washington     0.0   73.491669          29             18        -11\n",
      "33    Cornelius Johnson     0.0   52.435763          29             24         -5\n",
      "2024 Rank Squared Error: 4439\n"
     ]
    }
   ],
   "source": [
    "from helpers import compute_rank_squared_error, build_results_df\n",
    "results = build_results_df(y_test, preds, df_24_merged['Player'])\n",
    "rank_squared_error = compute_rank_squared_error(results)\n",
    "\n",
    "print(results.to_string())\n",
    "print(\"2024 Rank Squared Error:\", rank_squared_error)"
   ]
  },
  {
   "cell_type": "code",
   "execution_count": null,
   "id": "15b3c258",
   "metadata": {},
   "outputs": [],
   "source": []
  }
 ],
 "metadata": {
  "kernelspec": {
   "display_name": "Python (fb)",
   "language": "python",
   "name": "fb"
  },
  "language_info": {
   "codemirror_mode": {
    "name": "ipython",
    "version": 3
   },
   "file_extension": ".py",
   "mimetype": "text/x-python",
   "name": "python",
   "nbconvert_exporter": "python",
   "pygments_lexer": "ipython3",
   "version": "3.13.2"
  }
 },
 "nbformat": 4,
 "nbformat_minor": 5
}
